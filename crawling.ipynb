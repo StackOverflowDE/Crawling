{
 "cells": [
  {
   "cell_type": "code",
   "execution_count": 1,
   "metadata": {},
   "outputs": [],
   "source": [
    "user_agent = {\"User-Agent\": \"Mozilla/5.0 (Macintosh; Intel Mac OS X 10_15_4) AppleWebKit/537.36 (KHTML, like Gecko) Chrome/83.0.4103.97 Safari/537.36\"}"
   ]
  },
  {
   "cell_type": "code",
   "execution_count": 2,
   "metadata": {},
   "outputs": [],
   "source": [
    "# 스크래핑에 필요한 라이브러리를 불러와줍니다.\n",
    "import time\n",
    "import requests\n",
    "from bs4 import BeautifulSoup"
   ]
  },
  {
   "cell_type": "code",
   "execution_count": 163,
   "metadata": {},
   "outputs": [],
   "source": [
    "# github에 요청 진행후 객체를 생성해줍니다.\n",
    "res = requests.get(\"https://github.com/topics/python?o=desc&s=stars\", user_agent)\n",
    "soup = BeautifulSoup(res.text, \"html.parser\")"
   ]
  },
  {
   "cell_type": "code",
   "execution_count": 150,
   "metadata": {},
   "outputs": [],
   "source": [
    "# 가져올 내용을 감싸고 있는 태그로 찾아올 내용을 결정합니다.\n",
    "stars = soup.find_all(\"span\", id=\"repo-stars-counter-star\")\n",
    "repositorys = soup.find_all(\"h3\", class_=(\"f3 color-fg-muted text-normal lh-condensed\"))"
   ]
  },
  {
   "cell_type": "code",
   "execution_count": 132,
   "metadata": {},
   "outputs": [
    {
     "data": {
      "text/plain": [
       "'donnemartin/system-design-primer'"
      ]
     },
     "execution_count": 132,
     "metadata": {},
     "output_type": "execute_result"
    }
   ],
   "source": [
    "# 가져올 정보들을 가져오는 코드입니다.\n",
    "stars['title']\n",
    "repositorys.text.replace('\\n', '').replace(' ', '')"
   ]
  },
  {
   "cell_type": "code",
   "execution_count": 164,
   "metadata": {},
   "outputs": [],
   "source": [
    "# json을 만들기 위한 정보를 담기위해 저장할 빈 리스트를 생성해줍니다.\n",
    "repo_info = []\n",
    "for repository in repositorys:\n",
    "    repo_info.append(repository.text.replace('\\n', '').replace(' ', ''))"
   ]
  },
  {
   "cell_type": "code",
   "execution_count": 167,
   "metadata": {},
   "outputs": [],
   "source": [
    "# json을 만들기 위한 정보를 담기위해 저장할 빈 리스트를 생성해줍니다.\n",
    "stars_info = []\n",
    "for star in stars:\n",
    "    stars_info.append(star['title'])"
   ]
  },
  {
   "cell_type": "code",
   "execution_count": 172,
   "metadata": {},
   "outputs": [],
   "source": [
    "# 마지막으로 JSON을 만드는 코드입니다.\n",
    "import json\n",
    "\n",
    "# 리스트를 딕셔너리로 변환\n",
    "repo_dict = dict(zip(repo_info, stars_info))\n",
    "\n",
    "# 딕셔너리를 JSON으로 변환\n",
    "repo_json = json.dumps(repo_dict)\n",
    "\n",
    "# JSON 파일로 저장\n",
    "with open('repo_info.json', 'w') as json_file:\n",
    "    json_file.write(repo_json)"
   ]
  }
 ],
 "metadata": {
  "kernelspec": {
   "display_name": "Python 3",
   "language": "python",
   "name": "python3"
  },
  "language_info": {
   "codemirror_mode": {
    "name": "ipython",
    "version": 3
   },
   "file_extension": ".py",
   "mimetype": "text/x-python",
   "name": "python",
   "nbconvert_exporter": "python",
   "pygments_lexer": "ipython3",
   "version": "3.12.3"
  }
 },
 "nbformat": 4,
 "nbformat_minor": 2
}
