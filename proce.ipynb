{
 "cells": [
  {
   "cell_type": "code",
   "execution_count": 81,
   "metadata": {},
   "outputs": [],
   "source": [
    "user_agent = {\"User-Agent\": \"Mozilla/5.0 (Macintosh; Intel Mac OS X 10_15_4) AppleWebKit/537.36 (KHTML, like Gecko) Chrome/83.0.4103.97 Safari/537.36\"}\n",
    "\n",
    "import re\n",
    "import requests\n",
    "from bs4 import BeautifulSoup\n",
    "\n",
    "'''\n",
    "language와 sort_tag를 정보에 맞게 넣어주세요 language = 개발언어, sort_tag = 'stars' or 'forks'\n",
    "language = \n",
    "sort_tag = \n",
    "'''\n",
    "\n",
    "# repo_info의 값에서 사용자는 제외하고 뒤의 제목만 가져오기 위해 re라이브러리를 사용했습니다.\n",
    "def extract_name(repository):\n",
    "    match = re.match(r'.+?/([^/]+)$', repository)\n",
    "    if match:\n",
    "        return match.group(1)\n",
    "    return None\n",
    "\n",
    "\n",
    "res = requests.get(\"https://github.com/topics/python?o=desc&s=stars\", user_agent)\n",
    "soup = BeautifulSoup(res.text, \"html.parser\")\n",
    "\n",
    "# repository의 타이틀을 가져와 각각의 페이지로 이동하기 위해 저장해줍니다..\n",
    "repositorys = soup.find_all(\"h3\", class_=(\"f3 color-fg-muted text-normal lh-condensed\"))\n",
    "repo_info = []\n",
    "for repository in repositorys:\n",
    "    repo_info.append(repository.text.replace('\\n', '').replace(' ', ''))\n",
    "\n",
    "git_data = []\n",
    "\n",
    "for repo_list in repositorys.text.replace('\\n', '').replace(' ', ''):\n",
    "    res_repo = requests.get(\"https://github.com/\" + repo_list , user_agent)\n",
    "    soup_repo = BeautifulSoup(res_repo.text, \"html.parser\")\n",
    "    \n",
    "    # repo_watch는 안긁어와지는데 해결가능할까요\n",
    "    repo_watch = soup_repo.find(\"span\", id= \"repo-notifications-counter\")\n",
    "    repo_fork = soup_repo.find(\"span\", id=\"repo-network-counter\")\n",
    "    repo_stars = soup_repo.find(\"span\", id=\"repo-stars-counter-star\")\n",
    "\n",
    "    elem = {\n",
    "        \"name\" : extract_name(repo_list),\n",
    "        \"watch\" : repo_watch,\n",
    "        \"fork\" : repo_fork['title'],\n",
    "        \"stars\" : repo_stars['title']\n",
    "    }\n",
    "    git_data.append(elem)"
   ]
  },
  {
   "cell_type": "code",
   "execution_count": 9,
   "metadata": {},
   "outputs": [],
   "source": [
    "test = requests.get(\"https://github.com/donnemartin/system-design-primer\" , user_agent)"
   ]
  },
  {
   "cell_type": "code",
   "execution_count": 35,
   "metadata": {},
   "outputs": [],
   "source": [
    "repo_watch = soup_repo.find(\"repo-notifications-counter\")\n",
    "repo_fork = soup_repo.find(\"span\", id=\"repo-network-counter\")\n",
    "repo_stars = soup_repo.find(\"span\", id=\"repo-stars-counter-star\")"
   ]
  },
  {
   "cell_type": "code",
   "execution_count": 72,
   "metadata": {},
   "outputs": [
    {
     "name": "stdout",
     "output_type": "stream",
     "text": [
      "system-design-primer\n",
      "awesome-python\n",
      "tensorflow\n",
      "Python\n",
      "CS-Notes\n",
      "project-based-learning\n",
      "AutoGPT\n",
      "transformers\n",
      "30-seconds-of-code\n",
      "free-programming-books-zh_CN\n",
      "HelloGitHub\n",
      "thefuck\n",
      "pytorch\n",
      "django\n",
      "fastapi\n",
      "yt-dlp\n",
      "core\n",
      "ML-For-Beginners\n",
      "flask\n",
      "devops-exercises\n"
     ]
    }
   ],
   "source": [
    "def extract_repository_name(repository):\n",
    "    match = re.match(r'.+?/([^/]+)$', repository)\n",
    "    if match:\n",
    "        return match.group(1)\n",
    "    return None\n",
    "\n",
    "# 결과 출력\n",
    "for repo in repo_info:\n",
    "    print(extract_repository_name(repo))"
   ]
  },
  {
   "cell_type": "code",
   "execution_count": 74,
   "metadata": {},
   "outputs": [
    {
     "data": {
      "text/plain": [
       "'system-design-primer'"
      ]
     },
     "execution_count": 74,
     "metadata": {},
     "output_type": "execute_result"
    }
   ],
   "source": [
    "extract_repository_name(repo_info[0])"
   ]
  },
  {
   "cell_type": "code",
   "execution_count": 67,
   "metadata": {},
   "outputs": [
    {
     "name": "stdout",
     "output_type": "stream",
     "text": [
      "system-design-primer\n",
      "awesome-python\n",
      "tensorflow\n",
      "Python\n",
      "CS-Notes\n",
      "project-based-learning\n",
      "AutoGPT\n",
      "transformers\n",
      "30-seconds-of-code\n",
      "free-programming-books-zh_CN\n",
      "HelloGitHub\n",
      "thefuck\n",
      "pytorch\n",
      "django\n",
      "fastapi\n",
      "yt-dlp\n",
      "core\n",
      "ML-For-Beginners\n",
      "flask\n",
      "devops-exercises\n"
     ]
    }
   ],
   "source": [
    "import re\n",
    "\n",
    "# 주어진 리스트\n",
    "repositories = [\n",
    "    'donnemartin/system-design-primer',\n",
    "    'vinta/awesome-python',\n",
    "    'tensorflow/tensorflow',\n",
    "    'TheAlgorithms/Python',\n",
    "    'CyC2018/CS-Notes',\n",
    "    'practical-tutorials/project-based-learning',\n",
    "    'Significant-Gravitas/AutoGPT',\n",
    "    'huggingface/transformers',\n",
    "    'Chalarangelo/30-seconds-of-code',\n",
    "    'justjavac/free-programming-books-zh_CN',\n",
    "    '521xueweihan/HelloGitHub',\n",
    "    'nvbn/thefuck',\n",
    "    'pytorch/pytorch',\n",
    "    'django/django',\n",
    "    'tiangolo/fastapi',\n",
    "    'yt-dlp/yt-dlp',\n",
    "    'home-assistant/core',\n",
    "    'microsoft/ML-For-Beginners',\n",
    "    'pallets/flask',\n",
    "    'bregman-arie/devops-exercises'\n",
    "]\n",
    "\n",
    "# 각 문자열에서 원하는 부분만 남기는 함수\n",
    "def extract_repository_name(repository):\n",
    "    match = re.match(r'.+?/([^/]+)$', repository)\n",
    "    if match:\n",
    "        return match.group(1)\n",
    "    return None\n",
    "\n",
    "# 결과 출력\n",
    "for repo in repositories:\n",
    "    print(extract_repository_name(repo))"
   ]
  },
  {
   "cell_type": "code",
   "execution_count": null,
   "metadata": {},
   "outputs": [],
   "source": [
    "repo_info"
   ]
  },
  {
   "cell_type": "code",
   "execution_count": 82,
   "metadata": {},
   "outputs": [
    {
     "data": {
      "text/plain": [
       "[{'name': 'system-design-primer',\n",
       "  'watch': None,\n",
       "  'fork': '43,210',\n",
       "  'stars': '252,575'},\n",
       " {'name': 'awesome-python',\n",
       "  'watch': None,\n",
       "  'fork': '24,447',\n",
       "  'stars': '204,186'},\n",
       " {'name': 'tensorflow', 'watch': None, 'fork': '73,856', 'stars': '182,249'},\n",
       " {'name': 'Python', 'watch': None, 'fork': '43,414', 'stars': '178,414'},\n",
       " {'name': 'CS-Notes', 'watch': None, 'fork': '50,744', 'stars': '172,029'},\n",
       " {'name': 'project-based-learning',\n",
       "  'watch': None,\n",
       "  'fork': '21,976',\n",
       "  'stars': '166,361'},\n",
       " {'name': 'AutoGPT', 'watch': None, 'fork': '41,807', 'stars': '160,872'},\n",
       " {'name': 'transformers', 'watch': None, 'fork': '24,676', 'stars': '124,349'},\n",
       " {'name': '30-seconds-of-code',\n",
       "  'watch': None,\n",
       "  'fork': '11,844',\n",
       "  'stars': '118,989'},\n",
       " {'name': 'free-programming-books-zh_CN',\n",
       "  'watch': None,\n",
       "  'fork': '28,073',\n",
       "  'stars': '109,038'},\n",
       " {'name': 'HelloGitHub', 'watch': None, 'fork': '9,427', 'stars': '84,511'},\n",
       " {'name': 'thefuck', 'watch': None, 'fork': '3,393', 'stars': '82,672'},\n",
       " {'name': 'pytorch', 'watch': None, 'fork': '20,967', 'stars': '77,544'},\n",
       " {'name': 'django', 'watch': None, 'fork': '30,692', 'stars': '76,622'},\n",
       " {'name': 'fastapi', 'watch': None, 'fork': '5,916', 'stars': '70,581'},\n",
       " {'name': 'yt-dlp', 'watch': None, 'fork': '5,559', 'stars': '69,983'},\n",
       " {'name': 'core', 'watch': None, 'fork': '27,877', 'stars': '68,411'},\n",
       " {'name': 'ML-For-Beginners',\n",
       "  'watch': None,\n",
       "  'fork': '13,528',\n",
       "  'stars': '66,767'},\n",
       " {'name': 'flask', 'watch': None, 'fork': '15,911', 'stars': '66,263'},\n",
       " {'name': 'devops-exercises',\n",
       "  'watch': None,\n",
       "  'fork': '13,835',\n",
       "  'stars': '63,231'}]"
      ]
     },
     "execution_count": 82,
     "metadata": {},
     "output_type": "execute_result"
    }
   ],
   "source": [
    "git_data"
   ]
  },
  {
   "cell_type": "code",
   "execution_count": 94,
   "metadata": {},
   "outputs": [],
   "source": [
    "user_agent = {\"User-Agent\": \"Mozilla/5.0 (Macintosh; Intel Mac OS X 10_15_4) AppleWebKit/537.36 (KHTML, like Gecko) Chrome/83.0.4103.97 Safari/537.36\"}\n",
    "\n",
    "import requests\n",
    "from bs4 import BeautifulSoup\n",
    "\n",
    "# 필터로 어떤걸 가져올지 몰라 'RecentActivity'로 필터링했습니다. \n",
    "# 'MostVotes'로 필터링할 시 너무 오래된 정보가 나오기 때문에 기간을 정할 수 없어서 최근에 활발한 질문을 가져오는게 취지에 부합하다는 생각이 들었습니다.\n",
    "# 'language'는 입력해주세요\n",
    "res = requests.get(\"https://stackoverflow.com/questions/tagged/python?sort=RecentActivity&edited=true\", user_agent)\n",
    "soup = BeautifulSoup(res.text, \"html.parser\")\n",
    "\n",
    "sof_data = []\n",
    "title = soup.find_all(\"h3\", class_=(\"s-post-summary--content-title\"))\n",
    "\n",
    "\n",
    "for title_result in title:\n",
    "    sof_list={\n",
    "        \"title\" : title_result.text.strip('\\n')\n",
    "    }\n",
    "    sof_data.append(sof_list)"
   ]
  },
  {
   "cell_type": "code",
   "execution_count": 95,
   "metadata": {},
   "outputs": [
    {
     "data": {
      "text/plain": [
       "[{'title': 'Is there a difference in the order of conditions in a python if statement?'},\n",
       " {'title': 'LogisticRegression model producing 100 percent accuracy'},\n",
       " {'title': 'WARNING:absl:Compiled the loaded model, but the compiled metrics have yet to be built'},\n",
       " {'title': 'Fitting right tail of the ditribution with GEV'},\n",
       " {'title': 'How to make a process run on AWS EC2 even after closing the local machine?'},\n",
       " {'title': 'Flax neural network with nans in the outputs'},\n",
       " {'title': 'I am trying to create training data for a game in python. For that, i chose to create a two dimensional list. But list is not updating properly'},\n",
       " {'title': \"Building a Tic-Tac-Toe game but player two's turn gets skipped if he does a wrong turn in a row that is filled out, how do I fix this?\"},\n",
       " {'title': 'WSL - webcam USB : Can not open camera by index'},\n",
       " {'title': 'Get minimum unique tuple pair from list of tuples'},\n",
       " {'title': \"'Unable to open database file' error while using in-memory db sqlite3\"},\n",
       " {'title': 'Install GMP library on Mac OS and PyCharm'},\n",
       " {'title': 'I am trying to implement an AVL Tree in a python script. the tree can be traversed in ( Pre-order, In-order and Post-order)'},\n",
       " {'title': \"ImportError: cannot import name 'triu' from 'scipy.linalg' - Gensim\"},\n",
       " {'title': 'Azure Function if no body is pass in make deffault action'},\n",
       " {'title': 'Assemble list of all permutations of a given strftime-substituted string over a daterange'},\n",
       " {'title': 'Setting new values in subset of xarray dataset'},\n",
       " {'title': 'How to (idiomatically) read indexed arrays from a delimited text file?'},\n",
       " {'title': 'Matplotlib - Seaborn-whitegrid is not a valid package style'},\n",
       " {'title': 'Selenium Headless Mode Issue with Chrome Extension Rendering'},\n",
       " {'title': 'OpenAi Api request with proxy'},\n",
       " {'title': 'NAO 2.5: Subscribe Error for create new module using ALAudioDevice Service'},\n",
       " {'title': 'How to add another pass through to langchain using expression languages'},\n",
       " {'title': 'Using bson.ObjectId in Pydantic v2'},\n",
       " {'title': '\"2-dimensional boolean indexing\" , the error of ax.quiver() function when use cartopy'},\n",
       " {'title': 'Why is the output signal identical to the input signal in my attempt to implement a bandpass, butterworth filter?'},\n",
       " {'title': \"torchvision module can't be found\"},\n",
       " {'title': 'Why my List is running faster than Queue when it should not?'},\n",
       " {'title': 'Error trying to create new module and subscribe using ALAudioDevice service'},\n",
       " {'title': \"Python Bert is failing at preprocessed_inputs = preprocessor(text_input). A KerasTensor is symbolic: it's a placeholder for a shape an dtype\"},\n",
       " {'title': 'Creating a Year-wise Bar Chart Visualization from CSV Data'},\n",
       " {'title': 'Code that only execute once, Python Startup folder'},\n",
       " {'title': 'How to make Tesseract work for Scoreboards'},\n",
       " {'title': 'How can I make my python selenium script work while minimized?'},\n",
       " {'title': 'Nested defaultdict of defaultdict'},\n",
       " {'title': \"can't uninstall python 3.11.x on windows(no software/no path)\"},\n",
       " {'title': 'LLM Application throwing Error for the RAG Approach'},\n",
       " {'title': 'How to quickly assign a python dict chain? [duplicate]'},\n",
       " {'title': 'How to create a nested dict in python [duplicate]'},\n",
       " {'title': 'How to access an instance variable in another class in python'},\n",
       " {'title': 'Nested defaultdicts'},\n",
       " {'title': 'Installing opencv python library on raspberry pi 4'},\n",
       " {'title': 'ValueError: RDD is empty-- Pyspark (Windows Standalone)'},\n",
       " {'title': 'How to find common phrases from a text document'},\n",
       " {'title': 'How can i send a video mediastream from React js to Python using Websocket?'},\n",
       " {'title': 'Efficient way to compute gradients separately w.r.t each class in Pytorch'},\n",
       " {'title': 'What is the cleanest way to replace a hostname in an URL with Python?'},\n",
       " {'title': 'How to import not python files from parent directory'},\n",
       " {'title': 'AttributeError when Using LangChain Google GenerativeAI in a CrewAI Environment'},\n",
       " {'title': 'Counting Tokens with Message History in OpenAI: Correct Approach?'}]"
      ]
     },
     "execution_count": 95,
     "metadata": {},
     "output_type": "execute_result"
    }
   ],
   "source": [
    "sof_data"
   ]
  }
 ],
 "metadata": {
  "kernelspec": {
   "display_name": "Python 3",
   "language": "python",
   "name": "python3"
  },
  "language_info": {
   "codemirror_mode": {
    "name": "ipython",
    "version": 3
   },
   "file_extension": ".py",
   "mimetype": "text/x-python",
   "name": "python",
   "nbconvert_exporter": "python",
   "pygments_lexer": "ipython3",
   "version": "3.12.3"
  }
 },
 "nbformat": 4,
 "nbformat_minor": 2
}
