{
 "cells": [
  {
   "cell_type": "code",
   "execution_count": 81,
   "metadata": {},
   "outputs": [],
   "source": [
    "user_agent = {\"User-Agent\": \"Mozilla/5.0 (Macintosh; Intel Mac OS X 10_15_4) AppleWebKit/537.36 (KHTML, like Gecko) Chrome/83.0.4103.97 Safari/537.36\"}\n",
    "\n",
    "import re\n",
    "import requests\n",
    "from bs4 import BeautifulSoup\n",
    "\n",
    "'''\n",
    "language와 sort_tag를 정보에 맞게 넣어주세요 language = 개발언어, sort_tag = 'stars' or 'forks'\n",
    "language = \n",
    "sort_tag = \n",
    "'''\n",
    "\n",
    "# repo_info의 값에서 사용자는 제외하고 뒤의 제목만 가져오기 위해 re라이브러리를 사용했습니다.\n",
    "def extract_name(repository):\n",
    "    match = re.match(r'.+?/([^/]+)$', repository)\n",
    "    if match:\n",
    "        return match.group(1)\n",
    "    return None\n",
    "\n",
    "\n",
    "res = requests.get(\"https://github.com/topics/python?o=desc&s=stars\", user_agent)\n",
    "soup = BeautifulSoup(res.text, \"html.parser\")\n",
    "\n",
    "# repository의 타이틀을 가져와 각각의 페이지로 이동하기 위해 저장해줍니다..\n",
    "repositorys = soup.find_all(\"h3\", class_=(\"f3 color-fg-muted text-normal lh-condensed\"))\n",
    "repo_info = []\n",
    "for repository in repositorys:\n",
    "    repo_info.append(repository.text.replace('\\n', '').replace(' ', ''))\n",
    "\n",
    "git_data = []\n",
    "\n",
    "for repo_list in repo_info:\n",
    "    res_repo = requests.get(\"https://github.com/\" + repo_list , user_agent)\n",
    "    soup_repo = BeautifulSoup(res_repo.text, \"html.parser\")\n",
    "    \n",
    "    # repo_watch는 안긁어와지는데 해결가능할까요\n",
    "    repo_watch = soup_repo.find(\"span\", id= \"repo-notifications-counter\")\n",
    "    repo_fork = soup_repo.find(\"span\", id=\"repo-network-counter\")\n",
    "    repo_stars = soup_repo.find(\"span\", id=\"repo-stars-counter-star\")\n",
    "\n",
    "    elem = {\n",
    "        \"name\" : extract_name(repo_list),\n",
    "        \"watch\" : repo_watch,\n",
    "        \"fork\" : repo_fork['title'],\n",
    "        \"stars\" : repo_stars['title']\n",
    "    }\n",
    "    git_data.append(elem)"
   ]
  },
  {
   "cell_type": "code",
   "execution_count": 9,
   "metadata": {},
   "outputs": [],
   "source": [
    "test = requests.get(\"https://github.com/donnemartin/system-design-primer\" , user_agent)"
   ]
  },
  {
   "cell_type": "code",
   "execution_count": 35,
   "metadata": {},
   "outputs": [],
   "source": [
    "repo_watch = soup_repo.find(\"repo-notifications-counter\")\n",
    "repo_fork = soup_repo.find(\"span\", id=\"repo-network-counter\")\n",
    "repo_stars = soup_repo.find(\"span\", id=\"repo-stars-counter-star\")"
   ]
  },
  {
   "cell_type": "code",
   "execution_count": 72,
   "metadata": {},
   "outputs": [
    {
     "name": "stdout",
     "output_type": "stream",
     "text": [
      "system-design-primer\n",
      "awesome-python\n",
      "tensorflow\n",
      "Python\n",
      "CS-Notes\n",
      "project-based-learning\n",
      "AutoGPT\n",
      "transformers\n",
      "30-seconds-of-code\n",
      "free-programming-books-zh_CN\n",
      "HelloGitHub\n",
      "thefuck\n",
      "pytorch\n",
      "django\n",
      "fastapi\n",
      "yt-dlp\n",
      "core\n",
      "ML-For-Beginners\n",
      "flask\n",
      "devops-exercises\n"
     ]
    }
   ],
   "source": [
    "def extract_repository_name(repository):\n",
    "    match = re.match(r'.+?/([^/]+)$', repository)\n",
    "    if match:\n",
    "        return match.group(1)\n",
    "    return None\n",
    "\n",
    "# 결과 출력\n",
    "for repo in repo_info:\n",
    "    print(extract_repository_name(repo))"
   ]
  },
  {
   "cell_type": "code",
   "execution_count": 74,
   "metadata": {},
   "outputs": [
    {
     "data": {
      "text/plain": [
       "'system-design-primer'"
      ]
     },
     "execution_count": 74,
     "metadata": {},
     "output_type": "execute_result"
    }
   ],
   "source": [
    "extract_repository_name(repo_info[0])"
   ]
  },
  {
   "cell_type": "code",
   "execution_count": 67,
   "metadata": {},
   "outputs": [
    {
     "name": "stdout",
     "output_type": "stream",
     "text": [
      "system-design-primer\n",
      "awesome-python\n",
      "tensorflow\n",
      "Python\n",
      "CS-Notes\n",
      "project-based-learning\n",
      "AutoGPT\n",
      "transformers\n",
      "30-seconds-of-code\n",
      "free-programming-books-zh_CN\n",
      "HelloGitHub\n",
      "thefuck\n",
      "pytorch\n",
      "django\n",
      "fastapi\n",
      "yt-dlp\n",
      "core\n",
      "ML-For-Beginners\n",
      "flask\n",
      "devops-exercises\n"
     ]
    }
   ],
   "source": [
    "import re\n",
    "\n",
    "# 주어진 리스트\n",
    "repositories = [\n",
    "    'donnemartin/system-design-primer',\n",
    "    'vinta/awesome-python',\n",
    "    'tensorflow/tensorflow',\n",
    "    'TheAlgorithms/Python',\n",
    "    'CyC2018/CS-Notes',\n",
    "    'practical-tutorials/project-based-learning',\n",
    "    'Significant-Gravitas/AutoGPT',\n",
    "    'huggingface/transformers',\n",
    "    'Chalarangelo/30-seconds-of-code',\n",
    "    'justjavac/free-programming-books-zh_CN',\n",
    "    '521xueweihan/HelloGitHub',\n",
    "    'nvbn/thefuck',\n",
    "    'pytorch/pytorch',\n",
    "    'django/django',\n",
    "    'tiangolo/fastapi',\n",
    "    'yt-dlp/yt-dlp',\n",
    "    'home-assistant/core',\n",
    "    'microsoft/ML-For-Beginners',\n",
    "    'pallets/flask',\n",
    "    'bregman-arie/devops-exercises'\n",
    "]\n",
    "\n",
    "# 각 문자열에서 원하는 부분만 남기는 함수\n",
    "def extract_repository_name(repository):\n",
    "    match = re.match(r'.+?/([^/]+)$', repository)\n",
    "    if match:\n",
    "        return match.group(1)\n",
    "    return None\n",
    "\n",
    "# 결과 출력\n",
    "for repo in repositories:\n",
    "    print(extract_repository_name(repo))"
   ]
  },
  {
   "cell_type": "code",
   "execution_count": null,
   "metadata": {},
   "outputs": [],
   "source": [
    "repo_info"
   ]
  },
  {
   "cell_type": "code",
   "execution_count": 82,
   "metadata": {},
   "outputs": [
    {
     "data": {
      "text/plain": [
       "[{'name': 'system-design-primer',\n",
       "  'watch': None,\n",
       "  'fork': '43,210',\n",
       "  'stars': '252,575'},\n",
       " {'name': 'awesome-python',\n",
       "  'watch': None,\n",
       "  'fork': '24,447',\n",
       "  'stars': '204,186'},\n",
       " {'name': 'tensorflow', 'watch': None, 'fork': '73,856', 'stars': '182,249'},\n",
       " {'name': 'Python', 'watch': None, 'fork': '43,414', 'stars': '178,414'},\n",
       " {'name': 'CS-Notes', 'watch': None, 'fork': '50,744', 'stars': '172,029'},\n",
       " {'name': 'project-based-learning',\n",
       "  'watch': None,\n",
       "  'fork': '21,976',\n",
       "  'stars': '166,361'},\n",
       " {'name': 'AutoGPT', 'watch': None, 'fork': '41,807', 'stars': '160,872'},\n",
       " {'name': 'transformers', 'watch': None, 'fork': '24,676', 'stars': '124,349'},\n",
       " {'name': '30-seconds-of-code',\n",
       "  'watch': None,\n",
       "  'fork': '11,844',\n",
       "  'stars': '118,989'},\n",
       " {'name': 'free-programming-books-zh_CN',\n",
       "  'watch': None,\n",
       "  'fork': '28,073',\n",
       "  'stars': '109,038'},\n",
       " {'name': 'HelloGitHub', 'watch': None, 'fork': '9,427', 'stars': '84,511'},\n",
       " {'name': 'thefuck', 'watch': None, 'fork': '3,393', 'stars': '82,672'},\n",
       " {'name': 'pytorch', 'watch': None, 'fork': '20,967', 'stars': '77,544'},\n",
       " {'name': 'django', 'watch': None, 'fork': '30,692', 'stars': '76,622'},\n",
       " {'name': 'fastapi', 'watch': None, 'fork': '5,916', 'stars': '70,581'},\n",
       " {'name': 'yt-dlp', 'watch': None, 'fork': '5,559', 'stars': '69,983'},\n",
       " {'name': 'core', 'watch': None, 'fork': '27,877', 'stars': '68,411'},\n",
       " {'name': 'ML-For-Beginners',\n",
       "  'watch': None,\n",
       "  'fork': '13,528',\n",
       "  'stars': '66,767'},\n",
       " {'name': 'flask', 'watch': None, 'fork': '15,911', 'stars': '66,263'},\n",
       " {'name': 'devops-exercises',\n",
       "  'watch': None,\n",
       "  'fork': '13,835',\n",
       "  'stars': '63,231'}]"
      ]
     },
     "execution_count": 82,
     "metadata": {},
     "output_type": "execute_result"
    }
   ],
   "source": [
    "git_data"
   ]
  }
 ],
 "metadata": {
  "kernelspec": {
   "display_name": "Python 3",
   "language": "python",
   "name": "python3"
  },
  "language_info": {
   "codemirror_mode": {
    "name": "ipython",
    "version": 3
   },
   "file_extension": ".py",
   "mimetype": "text/x-python",
   "name": "python",
   "nbconvert_exporter": "python",
   "pygments_lexer": "ipython3",
   "version": "3.12.3"
  }
 },
 "nbformat": 4,
 "nbformat_minor": 2
}
