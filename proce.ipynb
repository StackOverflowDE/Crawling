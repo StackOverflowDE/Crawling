{
 "cells": [
  {
   "cell_type": "code",
   "execution_count": 20,
   "metadata": {},
   "outputs": [],
   "source": [
    "user_agent = {\"User-Agent\": \"Mozilla/5.0 (Macintosh; Intel Mac OS X 10_15_4) AppleWebKit/537.36 (KHTML, like Gecko) Chrome/83.0.4103.97 Safari/537.36\"}\n",
    "\n",
    "import requests\n",
    "from bs4 import BeautifulSoup\n",
    "\n",
    "res = requests.get(\"https://github.com/topics/python?o=desc&s=stars\", user_agent)\n",
    "soup = BeautifulSoup(res.text, \"html.parser\")\n",
    "\n",
    "# repository의 타이틀을 가져와 각각의 페이지로 이동하기 위해 저장해줍니다..\n",
    "repositorys = soup.find_all(\"h3\", class_=(\"f3 color-fg-muted text-normal lh-condensed\"))\n",
    "repo_info = []\n",
    "for repository in repositorys:\n",
    "    repo_info.append(repository.text.replace('\\n', '').replace(' ', ''))\n",
    "\n",
    "git_data = []\n",
    "\n",
    "for repo_list in repo_info:\n",
    "    res_repo = requests.get(\"https://github.com/\" + repo_list , user_agent)\n",
    "    soup_repo = BeautifulSoup(res_repo.text, \"html.parser\")\n",
    "    \n",
    "    repo_watch = soup_repo.find(\"span\", id= \"repo-notifications-counter\")\n",
    "    repo_fork = soup_repo.find(\"span\", id=\"repo-network-counter\")\n",
    "    repo_stars = soup_repo.find(\"span\", id=\"repo-stars-counter-star\")\n",
    "\n",
    "    elem = {\n",
    "        \"watch\" : repo_watch,\n",
    "        \"fork\" : repo_fork['title'],\n",
    "        \"stars\" : repo_stars['title']\n",
    "    }\n",
    "    git_data.append(elem)\n",
    "    "
   ]
  },
  {
   "cell_type": "code",
   "execution_count": 9,
   "metadata": {},
   "outputs": [],
   "source": [
    "test = requests.get(\"https://github.com/donnemartin/system-design-primer\" , user_agent)"
   ]
  },
  {
   "cell_type": "code",
   "execution_count": 35,
   "metadata": {},
   "outputs": [],
   "source": [
    "repo_watch = soup_repo.find(\"repo-notifications-counter\")\n",
    "repo_fork = soup_repo.find(\"span\", id=\"repo-network-counter\")\n",
    "repo_stars = soup_repo.find(\"span\", id=\"repo-stars-counter-star\")"
   ]
  },
  {
   "cell_type": "code",
   "execution_count": 36,
   "metadata": {},
   "outputs": [],
   "source": [
    "repo_watch"
   ]
  },
  {
   "cell_type": "code",
   "execution_count": 21,
   "metadata": {},
   "outputs": [
    {
     "data": {
      "text/plain": [
       "[{'watch': None, 'fork': '43,206', 'stars': '252,565'},\n",
       " {'watch': None, 'fork': '24,447', 'stars': '204,184'},\n",
       " {'watch': None, 'fork': '73,856', 'stars': '182,249'},\n",
       " {'watch': None, 'fork': '43,414', 'stars': '178,408'},\n",
       " {'watch': None, 'fork': '50,744', 'stars': '172,028'},\n",
       " {'watch': None, 'fork': '21,973', 'stars': '166,352'},\n",
       " {'watch': None, 'fork': '41,806', 'stars': '160,868'},\n",
       " {'watch': None, 'fork': '24,674', 'stars': '124,348'},\n",
       " {'watch': None, 'fork': '11,844', 'stars': '118,988'},\n",
       " {'watch': None, 'fork': '28,073', 'stars': '109,036'},\n",
       " {'watch': None, 'fork': '9,427', 'stars': '84,508'},\n",
       " {'watch': None, 'fork': '3,393', 'stars': '82,672'},\n",
       " {'watch': None, 'fork': '20,966', 'stars': '77,543'},\n",
       " {'watch': None, 'fork': '30,692', 'stars': '76,621'},\n",
       " {'watch': None, 'fork': '5,916', 'stars': '70,579'},\n",
       " {'watch': None, 'fork': '5,559', 'stars': '69,980'},\n",
       " {'watch': None, 'fork': '27,877', 'stars': '68,411'},\n",
       " {'watch': None, 'fork': '13,528', 'stars': '66,767'},\n",
       " {'watch': None, 'fork': '15,910', 'stars': '66,262'},\n",
       " {'watch': None, 'fork': '13,832', 'stars': '63,230'}]"
      ]
     },
     "execution_count": 21,
     "metadata": {},
     "output_type": "execute_result"
    }
   ],
   "source": [
    "git_data"
   ]
  }
 ],
 "metadata": {
  "kernelspec": {
   "display_name": "Python 3",
   "language": "python",
   "name": "python3"
  },
  "language_info": {
   "codemirror_mode": {
    "name": "ipython",
    "version": 3
   },
   "file_extension": ".py",
   "mimetype": "text/x-python",
   "name": "python",
   "nbconvert_exporter": "python",
   "pygments_lexer": "ipython3",
   "version": "3.12.3"
  }
 },
 "nbformat": 4,
 "nbformat_minor": 2
}
