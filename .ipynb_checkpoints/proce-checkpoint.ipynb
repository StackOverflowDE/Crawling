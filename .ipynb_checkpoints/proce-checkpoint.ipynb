{
 "cells": [
  {
   "cell_type": "code",
   "execution_count": 242,
   "metadata": {},
   "outputs": [
    {
     "ename": "KeyError",
     "evalue": "'title'",
     "output_type": "error",
     "traceback": [
      "\u001b[1;31m---------------------------------------------------------------------------\u001b[0m",
      "\u001b[1;31mKeyError\u001b[0m                                  Traceback (most recent call last)",
      "Cell \u001b[1;32mIn[242], line 52\u001b[0m\n\u001b[0;32m     45\u001b[0m repo_img \u001b[38;5;241m=\u001b[39m soup\u001b[38;5;241m.\u001b[39mfind()\n\u001b[0;32m     47\u001b[0m \u001b[38;5;66;03m# 최종 데이터 dictionary 및 데이터 리스트에 추가\u001b[39;00m\n\u001b[0;32m     48\u001b[0m git_elem \u001b[38;5;241m=\u001b[39m {\n\u001b[0;32m     49\u001b[0m     \u001b[38;5;124m\"\u001b[39m\u001b[38;5;124mname\u001b[39m\u001b[38;5;124m\"\u001b[39m : extract_name(repo_list),\n\u001b[0;32m     50\u001b[0m     \u001b[38;5;124m\"\u001b[39m\u001b[38;5;124mfork\u001b[39m\u001b[38;5;124m\"\u001b[39m : repo_fork[\u001b[38;5;124m'\u001b[39m\u001b[38;5;124mtitle\u001b[39m\u001b[38;5;124m'\u001b[39m],\n\u001b[0;32m     51\u001b[0m     \u001b[38;5;124m\"\u001b[39m\u001b[38;5;124mstars\u001b[39m\u001b[38;5;124m\"\u001b[39m : repo_stars[\u001b[38;5;124m'\u001b[39m\u001b[38;5;124mtitle\u001b[39m\u001b[38;5;124m'\u001b[39m],\n\u001b[1;32m---> 52\u001b[0m     \u001b[38;5;124m\"\u001b[39m\u001b[38;5;124mrecent_time\u001b[39m\u001b[38;5;124m\"\u001b[39m : \u001b[43mrepo_recent\u001b[49m\u001b[43m[\u001b[49m\u001b[38;5;124;43m'\u001b[39;49m\u001b[38;5;124;43mtitle\u001b[39;49m\u001b[38;5;124;43m'\u001b[39;49m\u001b[43m]\u001b[49m,\n\u001b[0;32m     53\u001b[0m     \u001b[38;5;124m\"\u001b[39m\u001b[38;5;124mnumber_of_commit\u001b[39m\u001b[38;5;124m\"\u001b[39m : repo_commit\u001b[38;5;241m.\u001b[39mtext,\n\u001b[0;32m     54\u001b[0m }\n\u001b[0;32m     55\u001b[0m git_data\u001b[38;5;241m.\u001b[39mappend(git_elem)\n",
      "File \u001b[1;32m~\\AppData\\Roaming\\Python\\Python312\\site-packages\\bs4\\element.py:1573\u001b[0m, in \u001b[0;36mTag.__getitem__\u001b[1;34m(self, key)\u001b[0m\n\u001b[0;32m   1570\u001b[0m \u001b[38;5;28;01mdef\u001b[39;00m \u001b[38;5;21m__getitem__\u001b[39m(\u001b[38;5;28mself\u001b[39m, key):\n\u001b[0;32m   1571\u001b[0m \u001b[38;5;250m    \u001b[39m\u001b[38;5;124;03m\"\"\"tag[key] returns the value of the 'key' attribute for the Tag,\u001b[39;00m\n\u001b[0;32m   1572\u001b[0m \u001b[38;5;124;03m    and throws an exception if it's not there.\"\"\"\u001b[39;00m\n\u001b[1;32m-> 1573\u001b[0m     \u001b[38;5;28;01mreturn\u001b[39;00m \u001b[38;5;28;43mself\u001b[39;49m\u001b[38;5;241;43m.\u001b[39;49m\u001b[43mattrs\u001b[49m\u001b[43m[\u001b[49m\u001b[43mkey\u001b[49m\u001b[43m]\u001b[49m\n",
      "\u001b[1;31mKeyError\u001b[0m: 'title'"
     ]
    }
   ],
   "source": [
    "user_agent = {\"User-Agent\": \"Mozilla/5.0 (Macintosh; Intel Mac OS X 10_15_4) AppleWebKit/537.36 (KHTML, like Gecko) Chrome/83.0.4103.97 Safari/537.36\"}\n",
    "\n",
    "import re\n",
    "import requests\n",
    "from bs4 import BeautifulSoup\n",
    "\n",
    "'''\n",
    "language와 sort_tag를 정보에 맞게 넣어주세요 language = 개발언어, sort_tag = 'stars' or 'forks'\n",
    "language = \n",
    "sort_tag = \n",
    "'''\n",
    "\n",
    "# repo_info의 값에서 사용자는 제외하고 뒤의 제목만 가져오기 위해 re라이브러리를 사용했습니다.\n",
    "def extract_name(repository):\n",
    "    match = re.match(r'.+?/([^/]+)$', repository)\n",
    "    if match:\n",
    "        return match.group(1)\n",
    "    return None\n",
    "\n",
    "\n",
    "res = requests.get(\"https://github.com/topics/python?o=desc&s=forks\", user_agent)\n",
    "soup = BeautifulSoup(res.text, \"html.parser\")\n",
    "\n",
    "# repository의 타이틀을 가져와 각각의 페이지로 이동하기 위해 저장해줍니다..\n",
    "repositorys = soup.find_all(\"h3\", class_=(\"f3 color-fg-muted text-normal lh-condensed\"))\n",
    "repo_info = []\n",
    "for repository in repositorys:\n",
    "    repo_info.append(repository.text.replace('\\n', '').replace(' ', ''))\n",
    "\n",
    "# 제목, forks, stars, 최근 커밋이 된 시간, 커밋수, 이미지를 저장할 리스트를 만들어줍니다.\n",
    "git_data = []\n",
    "\n",
    "\n",
    "# 각 repo별 url 요청\n",
    "for repo_list in repo_info:\n",
    "    res_repo = requests.get(\"https://github.com/\" + repo_list , user_agent)\n",
    "    soup_repo = BeautifulSoup(res_repo.text, \"html.parser\")\n",
    "    \n",
    "    # repo_watch는 안긁어와지는데 해결가능할까요 // 안타깝게도 watch는 정보가 보호되어 있어서 긁어올수가 없네요ㅜㅜ\n",
    "    # forks, stars, recent, commit수, image 수집\n",
    "    repo_fork = soup_repo.find(\"span\", id=\"repo-network-counter\")\n",
    "    repo_stars = soup_repo.find(\"span\", id=\"repo-stars-counter-star\")\n",
    "    repo_recent = soup.find(\"relative-time\")\n",
    "    repo_commit = soup.find(\"span\", class_=\"Text-sc-17v1xeu-0 UrHoN\")\n",
    "    repo_img = soup.find()\n",
    "\n",
    "    # 최종 데이터 dictionary 및 데이터 리스트에 추가\n",
    "    git_elem = {\n",
    "        \"name\" : extract_name(repo_list),\n",
    "        \"fork\" : repo_fork['title'],\n",
    "        \"stars\" : repo_stars['title'],\n",
    "        \"recent_time\" : repo_recent['title'],\n",
    "        \"number_of_commit\" : repo_commit.text,\n",
    "    }\n",
    "    git_data.append(git_elem)"
   ]
  },
  {
   "cell_type": "code",
   "execution_count": 248,
   "metadata": {},
   "outputs": [
    {
     "data": {
      "text/plain": [
       "[]"
      ]
     },
     "execution_count": 248,
     "metadata": {},
     "output_type": "execute_result"
    }
   ],
   "source": [
    "soup.find_all(\"relative-time\", class_=\"custom-element__createComponent-sc-192p0ln-0\")"
   ]
  },
  {
   "cell_type": "code",
   "execution_count": 9,
   "metadata": {},
   "outputs": [],
   "source": [
    "test = requests.get(\"https://github.com/donnemartin/system-design-primer\" , user_agent)"
   ]
  },
  {
   "cell_type": "code",
   "execution_count": 35,
   "metadata": {},
   "outputs": [],
   "source": [
    "repo_watch = soup_repo.find(\"repo-notifications-counter\")\n",
    "repo_fork = soup_repo.find(\"span\", id=\"repo-network-counter\")\n",
    "repo_stars = soup_repo.find(\"span\", id=\"repo-stars-counter-star\")"
   ]
  },
  {
   "cell_type": "code",
   "execution_count": 72,
   "metadata": {},
   "outputs": [
    {
     "name": "stdout",
     "output_type": "stream",
     "text": [
      "system-design-primer\n",
      "awesome-python\n",
      "tensorflow\n",
      "Python\n",
      "CS-Notes\n",
      "project-based-learning\n",
      "AutoGPT\n",
      "transformers\n",
      "30-seconds-of-code\n",
      "free-programming-books-zh_CN\n",
      "HelloGitHub\n",
      "thefuck\n",
      "pytorch\n",
      "django\n",
      "fastapi\n",
      "yt-dlp\n",
      "core\n",
      "ML-For-Beginners\n",
      "flask\n",
      "devops-exercises\n"
     ]
    }
   ],
   "source": [
    "def extract_repository_name(repository):\n",
    "    match = re.match(r'.+?/([^/]+)$', repository)\n",
    "    if match:\n",
    "        return match.group(1)\n",
    "    return None\n",
    "\n",
    "# 결과 출력\n",
    "for repo in repo_info:\n",
    "    print(extract_repository_name(repo))"
   ]
  },
  {
   "cell_type": "code",
   "execution_count": 74,
   "metadata": {},
   "outputs": [
    {
     "data": {
      "text/plain": [
       "'system-design-primer'"
      ]
     },
     "execution_count": 74,
     "metadata": {},
     "output_type": "execute_result"
    }
   ],
   "source": [
    "extract_repository_name(repo_info[0])"
   ]
  },
  {
   "cell_type": "code",
   "execution_count": 203,
   "metadata": {},
   "outputs": [
    {
     "name": "stdout",
     "output_type": "stream",
     "text": [
      "이미지가 없습니다.\n"
     ]
    },
    {
     "ename": "AttributeError",
     "evalue": "'NoneType' object has no attribute 'text'",
     "output_type": "error",
     "traceback": [
      "\u001b[1;31m---------------------------------------------------------------------------\u001b[0m",
      "\u001b[1;31mAttributeError\u001b[0m                            Traceback (most recent call last)",
      "Cell \u001b[1;32mIn[203], line 36\u001b[0m\n\u001b[0;32m     28\u001b[0m     \u001b[38;5;28mprint\u001b[39m(\u001b[38;5;124m\"\u001b[39m\u001b[38;5;124m이미지가 없습니다.\u001b[39m\u001b[38;5;124m\"\u001b[39m)\n\u001b[0;32m     30\u001b[0m \u001b[38;5;66;03m# 최종 데이터 dictionary 및 데이터 리스트에 추가\u001b[39;00m\n\u001b[0;32m     31\u001b[0m git_elem \u001b[38;5;241m=\u001b[39m {\n\u001b[0;32m     32\u001b[0m     \u001b[38;5;124m\"\u001b[39m\u001b[38;5;124mname\u001b[39m\u001b[38;5;124m\"\u001b[39m : extract_name(repo_list),\n\u001b[0;32m     33\u001b[0m     \u001b[38;5;124m\"\u001b[39m\u001b[38;5;124mfork\u001b[39m\u001b[38;5;124m\"\u001b[39m : repo_fork[\u001b[38;5;124m'\u001b[39m\u001b[38;5;124mtitle\u001b[39m\u001b[38;5;124m'\u001b[39m],\n\u001b[0;32m     34\u001b[0m     \u001b[38;5;124m\"\u001b[39m\u001b[38;5;124mstars\u001b[39m\u001b[38;5;124m\"\u001b[39m : repo_stars[\u001b[38;5;124m'\u001b[39m\u001b[38;5;124mtitle\u001b[39m\u001b[38;5;124m'\u001b[39m],\n\u001b[0;32m     35\u001b[0m     \u001b[38;5;124m\"\u001b[39m\u001b[38;5;124mrecent_time\u001b[39m\u001b[38;5;124m\"\u001b[39m : repo_recent,\n\u001b[1;32m---> 36\u001b[0m     \u001b[38;5;124m\"\u001b[39m\u001b[38;5;124mnumber_of_commit\u001b[39m\u001b[38;5;124m\"\u001b[39m : \u001b[43mrepo_commit\u001b[49m\u001b[38;5;241;43m.\u001b[39;49m\u001b[43mtext\u001b[49m\u001b[38;5;241m.\u001b[39msplit()[\u001b[38;5;241m0\u001b[39m]\n\u001b[0;32m     37\u001b[0m }\n\u001b[0;32m     38\u001b[0m git_data\u001b[38;5;241m.\u001b[39mappend(git_elem)\n",
      "\u001b[1;31mAttributeError\u001b[0m: 'NoneType' object has no attribute 'text'"
     ]
    }
   ],
   "source": [
    "for repo_list in repo_info:\n",
    "    res_repo = requests.get(\"https://github.com/\" + repo_list , user_agent)\n",
    "    soup_repo = BeautifulSoup(res_repo.text, \"html.parser\")\n",
    "    \n",
    "    # repo_watch는 안긁어와지는데 해결가능할까요 // 안타깝게도 watch는 정보가 보호되어 있어서 긁어올수가 없네요ㅜㅜ\n",
    "    # forks, stars, recent, commit수, image 수집\n",
    "    repo_fork = soup_repo.find(\"span\", id=\"repo-network-counter\")\n",
    "    repo_stars = soup_repo.find(\"span\", id=\"repo-stars-counter-star\")\n",
    "    repo_recent = soup.find(\"relative-time\", class_=\"custom-element__createComponent-sc-192p0ln-0\")\n",
    "    repo_commit = soup.find(\"span\", class_=\"Text-sc-17v1xeu-0 UrHoN\")\n",
    "    repo_img = soup_repo.find(\"img\", class_=\"avatar mr-2 d-none d-md-block\")\n",
    "\n",
    "    # 이미지 URL 가져오기\n",
    "    if repo_img:\n",
    "        img_url = repo_img['src']\n",
    "        \n",
    "        # 이미지 다운로드\n",
    "        img_response = requests.get(img_url)\n",
    "        if img_response.status_code == 200:\n",
    "            # 이미지 파일로 저장\n",
    "            img_filename = f\"{extract_name(repo_list)}_avatar.jpg\"\n",
    "            with open(img_filename, \"wb\") as img_file:\n",
    "                img_file.write(img_response.content)\n",
    "            print(f\"{img_filename} 이미지를 저장했습니다.\")\n",
    "        else:\n",
    "            print(\"이미지를 가져올 수 없습니다.\")\n",
    "    else:\n",
    "        print(\"이미지가 없습니다.\")\n",
    "\n",
    "    # 최종 데이터 dictionary 및 데이터 리스트에 추가\n",
    "    git_elem = {\n",
    "        \"name\" : extract_name(repo_list),\n",
    "        \"fork\" : repo_fork['title'],\n",
    "        \"stars\" : repo_stars['title'],\n",
    "        \"recent_time\" : repo_recent,\n",
    "        \"number_of_commit\" : repo_commit.text.split()[0]\n",
    "    }\n",
    "    git_data.append(git_elem)"
   ]
  },
  {
   "cell_type": "code",
   "execution_count": 206,
   "metadata": {},
   "outputs": [
    {
     "data": {
      "text/plain": [
       "'donnemartin/system-design-primer'"
      ]
     },
     "execution_count": 206,
     "metadata": {},
     "output_type": "execute_result"
    }
   ],
   "source": [
    "repo_list"
   ]
  },
  {
   "cell_type": "code",
   "execution_count": 140,
   "metadata": {},
   "outputs": [
    {
     "data": {
      "text/plain": [
       "[{'name': 'system-design-primer',\n",
       "  'watch': None,\n",
       "  'fork': '43,212',\n",
       "  'stars': '252,602'},\n",
       " {'name': 'awesome-python',\n",
       "  'watch': None,\n",
       "  'fork': '24,447',\n",
       "  'stars': '204,199'},\n",
       " {'name': 'tensorflow', 'watch': None, 'fork': '73,857', 'stars': '182,251'},\n",
       " {'name': 'Python', 'watch': None, 'fork': '43,420', 'stars': '178,457'},\n",
       " {'name': 'CS-Notes', 'watch': None, 'fork': '50,743', 'stars': '172,030'},\n",
       " {'name': 'project-based-learning',\n",
       "  'watch': None,\n",
       "  'fork': '21,978',\n",
       "  'stars': '166,381'},\n",
       " {'name': 'AutoGPT', 'watch': None, 'fork': '41,814', 'stars': '160,875'},\n",
       " {'name': 'transformers', 'watch': None, 'fork': '24,677', 'stars': '124,353'},\n",
       " {'name': '30-seconds-of-code',\n",
       "  'watch': None,\n",
       "  'fork': '11,844',\n",
       "  'stars': '118,993'},\n",
       " {'name': 'free-programming-books-zh_CN',\n",
       "  'watch': None,\n",
       "  'fork': '28,074',\n",
       "  'stars': '109,037'},\n",
       " {'name': 'HelloGitHub', 'watch': None, 'fork': '9,427', 'stars': '84,517'},\n",
       " {'name': 'thefuck', 'watch': None, 'fork': '3,393', 'stars': '82,672'},\n",
       " {'name': 'pytorch', 'watch': None, 'fork': '20,968', 'stars': '77,546'},\n",
       " {'name': 'django', 'watch': None, 'fork': '30,693', 'stars': '76,625'},\n",
       " {'name': 'fastapi', 'watch': None, 'fork': '5,916', 'stars': '70,587'},\n",
       " {'name': 'yt-dlp', 'watch': None, 'fork': '5,559', 'stars': '69,989'},\n",
       " {'name': 'core', 'watch': None, 'fork': '27,878', 'stars': '68,411'},\n",
       " {'name': 'ML-For-Beginners',\n",
       "  'watch': None,\n",
       "  'fork': '13,529',\n",
       "  'stars': '66,768'},\n",
       " {'name': 'flask', 'watch': None, 'fork': '15,912', 'stars': '66,264'},\n",
       " {'name': 'devops-exercises',\n",
       "  'watch': None,\n",
       "  'fork': '13,835',\n",
       "  'stars': '63,233'},\n",
       " {'name': 'system-design-primer',\n",
       "  'fork': '43,214',\n",
       "  'stars': '252,614',\n",
       "  'recent_time': 'Apr 16, 2024, 4:08 PM GMT+9',\n",
       "  'number_of_commit': '162,960 Commits'},\n",
       " {'name': 'awesome-python',\n",
       "  'fork': '24,447',\n",
       "  'stars': '204,205',\n",
       "  'recent_time': 'Apr 16, 2024, 4:08 PM GMT+9',\n",
       "  'number_of_commit': '162,960 Commits'},\n",
       " {'name': 'tensorflow',\n",
       "  'fork': '73,858',\n",
       "  'stars': '182,253',\n",
       "  'recent_time': 'Apr 16, 2024, 4:08 PM GMT+9',\n",
       "  'number_of_commit': '162,960 Commits'},\n",
       " {'name': 'Python',\n",
       "  'fork': '43,424',\n",
       "  'stars': '178,483',\n",
       "  'recent_time': 'Apr 16, 2024, 4:08 PM GMT+9',\n",
       "  'number_of_commit': '162,960 Commits'},\n",
       " {'name': 'CS-Notes',\n",
       "  'fork': '50,742',\n",
       "  'stars': '172,032',\n",
       "  'recent_time': 'Apr 16, 2024, 4:08 PM GMT+9',\n",
       "  'number_of_commit': '162,960 Commits'},\n",
       " {'name': 'project-based-learning',\n",
       "  'fork': '21,978',\n",
       "  'stars': '166,390',\n",
       "  'recent_time': 'Apr 16, 2024, 4:08 PM GMT+9',\n",
       "  'number_of_commit': '162,960 Commits'},\n",
       " {'name': 'AutoGPT',\n",
       "  'fork': '41,820',\n",
       "  'stars': '160,880',\n",
       "  'recent_time': 'Apr 16, 2024, 4:08 PM GMT+9',\n",
       "  'number_of_commit': '162,960 Commits'},\n",
       " {'name': 'transformers',\n",
       "  'fork': '24,677',\n",
       "  'stars': '124,357',\n",
       "  'recent_time': 'Apr 16, 2024, 4:08 PM GMT+9',\n",
       "  'number_of_commit': '162,960 Commits'},\n",
       " {'name': '30-seconds-of-code',\n",
       "  'fork': '11,845',\n",
       "  'stars': '118,994',\n",
       "  'recent_time': 'Apr 16, 2024, 4:08 PM GMT+9',\n",
       "  'number_of_commit': '162,960 Commits'},\n",
       " {'name': 'free-programming-books-zh_CN',\n",
       "  'fork': '28,074',\n",
       "  'stars': '109,037',\n",
       "  'recent_time': 'Apr 16, 2024, 4:08 PM GMT+9',\n",
       "  'number_of_commit': '162,960 Commits'},\n",
       " {'name': 'HelloGitHub',\n",
       "  'fork': '9,427',\n",
       "  'stars': '84,519',\n",
       "  'recent_time': 'Apr 16, 2024, 4:08 PM GMT+9',\n",
       "  'number_of_commit': '162,960 Commits'},\n",
       " {'name': 'thefuck',\n",
       "  'fork': '3,393',\n",
       "  'stars': '82,673',\n",
       "  'recent_time': 'Apr 16, 2024, 4:08 PM GMT+9',\n",
       "  'number_of_commit': '162,960 Commits'},\n",
       " {'name': 'pytorch',\n",
       "  'fork': '20,969',\n",
       "  'stars': '77,549',\n",
       "  'recent_time': 'Apr 16, 2024, 4:08 PM GMT+9',\n",
       "  'number_of_commit': '162,960 Commits'},\n",
       " {'name': 'django',\n",
       "  'fork': '30,694',\n",
       "  'stars': '76,626',\n",
       "  'recent_time': 'Apr 16, 2024, 4:08 PM GMT+9',\n",
       "  'number_of_commit': '162,960 Commits'},\n",
       " {'name': 'fastapi',\n",
       "  'fork': '5,917',\n",
       "  'stars': '70,589',\n",
       "  'recent_time': 'Apr 16, 2024, 4:08 PM GMT+9',\n",
       "  'number_of_commit': '162,960 Commits'},\n",
       " {'name': 'yt-dlp',\n",
       "  'fork': '5,559',\n",
       "  'stars': '69,991',\n",
       "  'recent_time': 'Apr 16, 2024, 4:08 PM GMT+9',\n",
       "  'number_of_commit': '162,960 Commits'},\n",
       " {'name': 'core',\n",
       "  'fork': '27,878',\n",
       "  'stars': '68,411',\n",
       "  'recent_time': 'Apr 16, 2024, 4:08 PM GMT+9',\n",
       "  'number_of_commit': '162,960 Commits'},\n",
       " {'name': 'ML-For-Beginners',\n",
       "  'fork': '13,529',\n",
       "  'stars': '66,768',\n",
       "  'recent_time': 'Apr 16, 2024, 4:08 PM GMT+9',\n",
       "  'number_of_commit': '162,960 Commits'},\n",
       " {'name': 'flask',\n",
       "  'fork': '15,912',\n",
       "  'stars': '66,264',\n",
       "  'recent_time': 'Apr 16, 2024, 4:08 PM GMT+9',\n",
       "  'number_of_commit': '162,960 Commits'},\n",
       " {'name': 'devops-exercises',\n",
       "  'fork': '13,835',\n",
       "  'stars': '63,233',\n",
       "  'recent_time': 'Apr 16, 2024, 4:08 PM GMT+9',\n",
       "  'number_of_commit': '162,960 Commits'},\n",
       " {'name': 'system-design-primer',\n",
       "  'fork': '43,214',\n",
       "  'stars': '252,614',\n",
       "  'recent_time': 'Apr 16, 2024, 4:08 PM GMT+9',\n",
       "  'number_of_commit': '162,960'},\n",
       " {'name': 'awesome-python',\n",
       "  'fork': '24,447',\n",
       "  'stars': '204,205',\n",
       "  'recent_time': 'Apr 16, 2024, 4:08 PM GMT+9',\n",
       "  'number_of_commit': '162,960'},\n",
       " {'name': 'tensorflow',\n",
       "  'fork': '73,858',\n",
       "  'stars': '182,253',\n",
       "  'recent_time': 'Apr 16, 2024, 4:08 PM GMT+9',\n",
       "  'number_of_commit': '162,960'},\n",
       " {'name': 'Python',\n",
       "  'fork': '43,424',\n",
       "  'stars': '178,483',\n",
       "  'recent_time': 'Apr 16, 2024, 4:08 PM GMT+9',\n",
       "  'number_of_commit': '162,960'},\n",
       " {'name': 'CS-Notes',\n",
       "  'fork': '50,742',\n",
       "  'stars': '172,032',\n",
       "  'recent_time': 'Apr 16, 2024, 4:08 PM GMT+9',\n",
       "  'number_of_commit': '162,960'},\n",
       " {'name': 'project-based-learning',\n",
       "  'fork': '21,978',\n",
       "  'stars': '166,390',\n",
       "  'recent_time': 'Apr 16, 2024, 4:08 PM GMT+9',\n",
       "  'number_of_commit': '162,960'},\n",
       " {'name': 'AutoGPT',\n",
       "  'fork': '41,820',\n",
       "  'stars': '160,880',\n",
       "  'recent_time': 'Apr 16, 2024, 4:08 PM GMT+9',\n",
       "  'number_of_commit': '162,960'},\n",
       " {'name': 'transformers',\n",
       "  'fork': '24,677',\n",
       "  'stars': '124,357',\n",
       "  'recent_time': 'Apr 16, 2024, 4:08 PM GMT+9',\n",
       "  'number_of_commit': '162,960'},\n",
       " {'name': '30-seconds-of-code',\n",
       "  'fork': '11,845',\n",
       "  'stars': '118,994',\n",
       "  'recent_time': 'Apr 16, 2024, 4:08 PM GMT+9',\n",
       "  'number_of_commit': '162,960'},\n",
       " {'name': 'free-programming-books-zh_CN',\n",
       "  'fork': '28,074',\n",
       "  'stars': '109,037',\n",
       "  'recent_time': 'Apr 16, 2024, 4:08 PM GMT+9',\n",
       "  'number_of_commit': '162,960'},\n",
       " {'name': 'HelloGitHub',\n",
       "  'fork': '9,427',\n",
       "  'stars': '84,519',\n",
       "  'recent_time': 'Apr 16, 2024, 4:08 PM GMT+9',\n",
       "  'number_of_commit': '162,960'},\n",
       " {'name': 'thefuck',\n",
       "  'fork': '3,393',\n",
       "  'stars': '82,673',\n",
       "  'recent_time': 'Apr 16, 2024, 4:08 PM GMT+9',\n",
       "  'number_of_commit': '162,960'},\n",
       " {'name': 'pytorch',\n",
       "  'fork': '20,969',\n",
       "  'stars': '77,549',\n",
       "  'recent_time': 'Apr 16, 2024, 4:08 PM GMT+9',\n",
       "  'number_of_commit': '162,960'},\n",
       " {'name': 'django',\n",
       "  'fork': '30,694',\n",
       "  'stars': '76,626',\n",
       "  'recent_time': 'Apr 16, 2024, 4:08 PM GMT+9',\n",
       "  'number_of_commit': '162,960'},\n",
       " {'name': 'fastapi',\n",
       "  'fork': '5,917',\n",
       "  'stars': '70,589',\n",
       "  'recent_time': 'Apr 16, 2024, 4:08 PM GMT+9',\n",
       "  'number_of_commit': '162,960'},\n",
       " {'name': 'yt-dlp',\n",
       "  'fork': '5,560',\n",
       "  'stars': '69,991',\n",
       "  'recent_time': 'Apr 16, 2024, 4:08 PM GMT+9',\n",
       "  'number_of_commit': '162,960'},\n",
       " {'name': 'core',\n",
       "  'fork': '27,878',\n",
       "  'stars': '68,411',\n",
       "  'recent_time': 'Apr 16, 2024, 4:08 PM GMT+9',\n",
       "  'number_of_commit': '162,960'},\n",
       " {'name': 'ML-For-Beginners',\n",
       "  'fork': '13,529',\n",
       "  'stars': '66,768',\n",
       "  'recent_time': 'Apr 16, 2024, 4:08 PM GMT+9',\n",
       "  'number_of_commit': '162,960'},\n",
       " {'name': 'flask',\n",
       "  'fork': '15,912',\n",
       "  'stars': '66,264',\n",
       "  'recent_time': 'Apr 16, 2024, 4:08 PM GMT+9',\n",
       "  'number_of_commit': '162,960'},\n",
       " {'name': 'devops-exercises',\n",
       "  'fork': '13,835',\n",
       "  'stars': '63,233',\n",
       "  'recent_time': 'Apr 16, 2024, 4:08 PM GMT+9',\n",
       "  'number_of_commit': '162,960'}]"
      ]
     },
     "execution_count": 140,
     "metadata": {},
     "output_type": "execute_result"
    }
   ],
   "source": [
    "git_data"
   ]
  },
  {
   "cell_type": "code",
   "execution_count": 101,
   "metadata": {},
   "outputs": [
    {
     "data": {
      "text/plain": [
       "[{'name': 'system-design-primer',\n",
       "  'watch': None,\n",
       "  'fork': '43,212',\n",
       "  'stars': '252,602'},\n",
       " {'name': 'awesome-python',\n",
       "  'watch': None,\n",
       "  'fork': '24,447',\n",
       "  'stars': '204,199'},\n",
       " {'name': 'tensorflow', 'watch': None, 'fork': '73,857', 'stars': '182,251'},\n",
       " {'name': 'Python', 'watch': None, 'fork': '43,420', 'stars': '178,457'},\n",
       " {'name': 'CS-Notes', 'watch': None, 'fork': '50,743', 'stars': '172,030'},\n",
       " {'name': 'project-based-learning',\n",
       "  'watch': None,\n",
       "  'fork': '21,978',\n",
       "  'stars': '166,381'},\n",
       " {'name': 'AutoGPT', 'watch': None, 'fork': '41,814', 'stars': '160,875'},\n",
       " {'name': 'transformers', 'watch': None, 'fork': '24,677', 'stars': '124,353'},\n",
       " {'name': '30-seconds-of-code',\n",
       "  'watch': None,\n",
       "  'fork': '11,844',\n",
       "  'stars': '118,993'},\n",
       " {'name': 'free-programming-books-zh_CN',\n",
       "  'watch': None,\n",
       "  'fork': '28,074',\n",
       "  'stars': '109,037'},\n",
       " {'name': 'HelloGitHub', 'watch': None, 'fork': '9,427', 'stars': '84,517'},\n",
       " {'name': 'thefuck', 'watch': None, 'fork': '3,393', 'stars': '82,672'},\n",
       " {'name': 'pytorch', 'watch': None, 'fork': '20,968', 'stars': '77,546'},\n",
       " {'name': 'django', 'watch': None, 'fork': '30,693', 'stars': '76,625'},\n",
       " {'name': 'fastapi', 'watch': None, 'fork': '5,916', 'stars': '70,587'},\n",
       " {'name': 'yt-dlp', 'watch': None, 'fork': '5,559', 'stars': '69,989'},\n",
       " {'name': 'core', 'watch': None, 'fork': '27,878', 'stars': '68,411'},\n",
       " {'name': 'ML-For-Beginners',\n",
       "  'watch': None,\n",
       "  'fork': '13,529',\n",
       "  'stars': '66,768'},\n",
       " {'name': 'flask', 'watch': None, 'fork': '15,912', 'stars': '66,264'},\n",
       " {'name': 'devops-exercises',\n",
       "  'watch': None,\n",
       "  'fork': '13,835',\n",
       "  'stars': '63,233'}]"
      ]
     },
     "execution_count": 101,
     "metadata": {},
     "output_type": "execute_result"
    }
   ],
   "source": [
    "git_data"
   ]
  },
  {
   "cell_type": "code",
   "execution_count": 94,
   "metadata": {},
   "outputs": [],
   "source": [
    "user_agent = {\"User-Agent\": \"Mozilla/5.0 (Macintosh; Intel Mac OS X 10_15_4) AppleWebKit/537.36 (KHTML, like Gecko) Chrome/83.0.4103.97 Safari/537.36\"}\n",
    "\n",
    "import requests\n",
    "from bs4 import BeautifulSoup\n",
    "\n",
    "# 필터로 어떤걸 가져올지 몰라 'RecentActivity'로 필터링했습니다. \n",
    "# 'MostVotes'로 필터링할 시 너무 오래된 정보가 나오기 때문에 기간을 정할 수 없어서 최근에 활발한 질문을 가져오는게 취지에 부합하다는 생각이 들었습니다.\n",
    "# 'language'는 입력해주세요\n",
    "res = requests.get(\"https://stackoverflow.com/questions/tagged/python?sort=RecentActivity&edited=true\", user_agent)\n",
    "soup = BeautifulSoup(res.text, \"html.parser\")\n",
    "\n",
    "sof_data = []\n",
    "title = soup.find_all(\"h3\", class_=(\"s-post-summary--content-title\"))\n",
    "\n",
    "\n",
    "for title_result in title:\n",
    "    sof_list={\n",
    "        \"title\" : title_result.text.strip('\\n')\n",
    "    }\n",
    "    sof_data.append(sof_list)"
   ]
  },
  {
   "cell_type": "code",
   "execution_count": 95,
   "metadata": {},
   "outputs": [
    {
     "data": {
      "text/plain": [
       "[{'title': 'Is there a difference in the order of conditions in a python if statement?'},\n",
       " {'title': 'LogisticRegression model producing 100 percent accuracy'},\n",
       " {'title': 'WARNING:absl:Compiled the loaded model, but the compiled metrics have yet to be built'},\n",
       " {'title': 'Fitting right tail of the ditribution with GEV'},\n",
       " {'title': 'How to make a process run on AWS EC2 even after closing the local machine?'},\n",
       " {'title': 'Flax neural network with nans in the outputs'},\n",
       " {'title': 'I am trying to create training data for a game in python. For that, i chose to create a two dimensional list. But list is not updating properly'},\n",
       " {'title': \"Building a Tic-Tac-Toe game but player two's turn gets skipped if he does a wrong turn in a row that is filled out, how do I fix this?\"},\n",
       " {'title': 'WSL - webcam USB : Can not open camera by index'},\n",
       " {'title': 'Get minimum unique tuple pair from list of tuples'},\n",
       " {'title': \"'Unable to open database file' error while using in-memory db sqlite3\"},\n",
       " {'title': 'Install GMP library on Mac OS and PyCharm'},\n",
       " {'title': 'I am trying to implement an AVL Tree in a python script. the tree can be traversed in ( Pre-order, In-order and Post-order)'},\n",
       " {'title': \"ImportError: cannot import name 'triu' from 'scipy.linalg' - Gensim\"},\n",
       " {'title': 'Azure Function if no body is pass in make deffault action'},\n",
       " {'title': 'Assemble list of all permutations of a given strftime-substituted string over a daterange'},\n",
       " {'title': 'Setting new values in subset of xarray dataset'},\n",
       " {'title': 'How to (idiomatically) read indexed arrays from a delimited text file?'},\n",
       " {'title': 'Matplotlib - Seaborn-whitegrid is not a valid package style'},\n",
       " {'title': 'Selenium Headless Mode Issue with Chrome Extension Rendering'},\n",
       " {'title': 'OpenAi Api request with proxy'},\n",
       " {'title': 'NAO 2.5: Subscribe Error for create new module using ALAudioDevice Service'},\n",
       " {'title': 'How to add another pass through to langchain using expression languages'},\n",
       " {'title': 'Using bson.ObjectId in Pydantic v2'},\n",
       " {'title': '\"2-dimensional boolean indexing\" , the error of ax.quiver() function when use cartopy'},\n",
       " {'title': 'Why is the output signal identical to the input signal in my attempt to implement a bandpass, butterworth filter?'},\n",
       " {'title': \"torchvision module can't be found\"},\n",
       " {'title': 'Why my List is running faster than Queue when it should not?'},\n",
       " {'title': 'Error trying to create new module and subscribe using ALAudioDevice service'},\n",
       " {'title': \"Python Bert is failing at preprocessed_inputs = preprocessor(text_input). A KerasTensor is symbolic: it's a placeholder for a shape an dtype\"},\n",
       " {'title': 'Creating a Year-wise Bar Chart Visualization from CSV Data'},\n",
       " {'title': 'Code that only execute once, Python Startup folder'},\n",
       " {'title': 'How to make Tesseract work for Scoreboards'},\n",
       " {'title': 'How can I make my python selenium script work while minimized?'},\n",
       " {'title': 'Nested defaultdict of defaultdict'},\n",
       " {'title': \"can't uninstall python 3.11.x on windows(no software/no path)\"},\n",
       " {'title': 'LLM Application throwing Error for the RAG Approach'},\n",
       " {'title': 'How to quickly assign a python dict chain? [duplicate]'},\n",
       " {'title': 'How to create a nested dict in python [duplicate]'},\n",
       " {'title': 'How to access an instance variable in another class in python'},\n",
       " {'title': 'Nested defaultdicts'},\n",
       " {'title': 'Installing opencv python library on raspberry pi 4'},\n",
       " {'title': 'ValueError: RDD is empty-- Pyspark (Windows Standalone)'},\n",
       " {'title': 'How to find common phrases from a text document'},\n",
       " {'title': 'How can i send a video mediastream from React js to Python using Websocket?'},\n",
       " {'title': 'Efficient way to compute gradients separately w.r.t each class in Pytorch'},\n",
       " {'title': 'What is the cleanest way to replace a hostname in an URL with Python?'},\n",
       " {'title': 'How to import not python files from parent directory'},\n",
       " {'title': 'AttributeError when Using LangChain Google GenerativeAI in a CrewAI Environment'},\n",
       " {'title': 'Counting Tokens with Message History in OpenAI: Correct Approach?'}]"
      ]
     },
     "execution_count": 95,
     "metadata": {},
     "output_type": "execute_result"
    }
   ],
   "source": [
    "sof_data"
   ]
  },
  {
   "cell_type": "code",
   "execution_count": 186,
   "metadata": {},
   "outputs": [],
   "source": [
    "img = soup_repo.find_all(\"img\", alt=\"Owner avatar\")"
   ]
  },
  {
   "cell_type": "code",
   "execution_count": 187,
   "metadata": {},
   "outputs": [
    {
     "data": {
      "text/plain": [
       "[]"
      ]
     },
     "execution_count": 187,
     "metadata": {},
     "output_type": "execute_result"
    }
   ],
   "source": [
    "img"
   ]
  },
  {
   "cell_type": "code",
   "execution_count": 191,
   "metadata": {},
   "outputs": [
    {
     "name": "stdout",
     "output_type": "stream",
     "text": [
      "사용자 아바타 URL: https://avatars.githubusercontent.com/u/15658638?v=4\n"
     ]
    }
   ],
   "source": [
    "import requests\n",
    "\n",
    "# GitHub 사용자명\n",
    "username = \"tensorflow\"\n",
    "\n",
    "# GitHub API 엔드포인트\n",
    "url = f\"https://api.github.com/users/{username}\"\n",
    "\n",
    "# API 요청\n",
    "response = requests.get(url)\n",
    "\n",
    "# 응답 데이터 확인\n",
    "if response.status_code == 200:\n",
    "    user_data = response.json()\n",
    "    avatar_url = user_data[\"avatar_url\"]\n",
    "    print(\"사용자 아바타 URL:\", avatar_url)\n",
    "else:\n",
    "    print(\"API 요청에 실패했습니다.\")"
   ]
  },
  {
   "cell_type": "code",
   "execution_count": 192,
   "metadata": {},
   "outputs": [
    {
     "data": {
      "text/plain": [
       "<Response [200]>"
      ]
     },
     "execution_count": 192,
     "metadata": {},
     "output_type": "execute_result"
    }
   ],
   "source": [
    "response"
   ]
  },
  {
   "cell_type": "code",
   "execution_count": 194,
   "metadata": {},
   "outputs": [
    {
     "name": "stdout",
     "output_type": "stream",
     "text": [
      "'img' 폴더를 생성했습니다.\n",
      "아바타 이미지를 저장했습니다.\n"
     ]
    }
   ],
   "source": [
    "import os\n",
    "import requests\n",
    "\n",
    "# GitHub 사용자명\n",
    "username = \"tensorflow\"\n",
    "\n",
    "folder_name = \"img\"\n",
    "\n",
    "\n",
    "# GitHub API 엔드포인트\n",
    "url = f\"https://api.github.com/users/{username}\"\n",
    "\n",
    "# API 요청\n",
    "response = requests.get(url)\n",
    "\n",
    "# 응답 데이터 확인\n",
    "if response.status_code == 200:\n",
    "    user_data = response.json()\n",
    "    avatar_url = user_data[\"avatar_url\"]\n",
    "    \n",
    "    if not os.path.exists(folder_name):\n",
    "        os.makedirs(folder_name)\n",
    "        print(f\"'{folder_name}' 폴더를 생성했습니다.\")\n",
    "    \n",
    "    # 이미지 다운로드\n",
    "    avatar_response = requests.get(avatar_url)\n",
    "    if avatar_response.status_code == 200:\n",
    "        # 이미지를 jpg 파일로 저장\n",
    "        file_path = os.path.join(folder_name, f\"{username}_avatar.jpg\")\n",
    "        with open(file_path, \"wb\") as f:\n",
    "            f.write(avatar_response.content)\n",
    "        print(\"아바타 이미지를 저장했습니다.\")\n",
    "    else:\n",
    "        print(\"아바타 이미지를 가져올 수 없습니다.\")\n",
    "else:\n",
    "    print(\"API 요청에 실패했습니다.\")"
   ]
  },
  {
   "cell_type": "code",
   "execution_count": null,
   "metadata": {},
   "outputs": [],
   "source": [
    "<span id=\"repo-network-counter\" data-pjax-replace=\"true\" data-turbo-replace=\"true\" title=\"73,857\" data-view-component=\"true\" class=\"Counter\">73.9k</span>"
   ]
  },
  {
   "cell_type": "code",
   "execution_count": 66,
   "metadata": {},
   "outputs": [
    {
     "name": "stdout",
     "output_type": "stream",
     "text": [
      "[]\n"
     ]
    }
   ],
   "source": [
    "from selenium import webdriver\n",
    "from selenium.webdriver.chrome.service import Service\n",
    "from webdriver_manager.chrome import ChromeDriverManager\n",
    "from selenium.webdriver.common.by import By\n",
    "\n",
    "with webdriver.Chrome(service=Service(ChromeDriverManager().install())) as driver:\n",
    "    driver.get(\"https://github.com/topics/python?o=desc&s=forks\")\n",
    "    \n",
    "    # 요소가 로드될 때까지 대기 (implicitly wait)\n",
    "    driver.implicitly_wait(10)  \n",
    "    \n",
    "    repositorys = driver.find_elements(By.CLASS_NAME, \"f3 color-fg-muted text-normal lh-condensed\")\n",
    "    print(repositorys)\n"
   ]
  },
  {
   "cell_type": "code",
   "execution_count": 87,
   "metadata": {},
   "outputs": [
    {
     "name": "stdout",
     "output_type": "stream",
     "text": [
      "Apr 16, 2024, 9:45 PM GMT+9\n"
     ]
    }
   ],
   "source": [
    "from selenium import webdriver\n",
    "from selenium.webdriver.chrome.service import Service\n",
    "from webdriver_manager.chrome import ChromeDriverManager\n",
    "from selenium.webdriver.common.by import By\n",
    "\n",
    "with webdriver.Chrome(service=Service(ChromeDriverManager().install())) as driver:\n",
    "    driver.get(\"https://github.com/topics/python?o=desc&s=forks\")\n",
    "    \n",
    "    # 요소가 로드될 때까지 대기 (implicitly wait)\n",
    "    driver.implicitly_wait(10)\n",
    "    \n",
    "    # 요소를 찾기 위해 find_elements를 사용하여 리스트 형태로 반환합니다.\n",
    "    elements = driver.find_elements(By.TAG_NAME, 'relative-time')\n",
    "    \n",
    "    # 요소의 갯수가 1개 이상일 경우에만 작업을 수행합니다.\n",
    "    if elements:\n",
    "        # 첫 번째 요소의 title 속성 값을 가져옵니다.\n",
    "        title = elements[0].get_attribute('title')\n",
    "        print(title)\n",
    "    else:\n",
    "        print(\"요소가 없습니다.\")"
   ]
  },
  {
   "cell_type": "code",
   "execution_count": 74,
   "metadata": {},
   "outputs": [
    {
     "name": "stdout",
     "output_type": "stream",
     "text": [
      "['tensorflow/tensorflow', 'CyC2018/CS-Notes', 'TheAlgorithms/Python', 'donnemartin/system-design-primer', 'Significant-Gravitas/AutoGPT', 'django/django', 'justjavac/free-programming-books-zh_CN', 'apache/spark', 'home-assistant/core', 'scikit-learn/scikit-learn', 'huggingface/transformers', 'vinta/awesome-python', 'ansible/ansible', 'odoo/odoo', 'practical-tutorials/project-based-learning', 'pytorch/pytorch', 'keras-team/keras', 'jakevdp/PythonDataScienceHandbook', 'pandas-dev/pandas', 'codebasics/py', 'Footernavigation']\n"
     ]
    }
   ],
   "source": [
    "print(new_list)"
   ]
  },
  {
   "cell_type": "code",
   "execution_count": 71,
   "metadata": {},
   "outputs": [
    {
     "name": "stdout",
     "output_type": "stream",
     "text": [
      "tensorflow / tensorflow/CyC2018 / CS-Notes\n",
      "TheAlgorithms / Python/donnemartin / system-design-primer\n",
      "Significant-Gravitas / AutoGPT/django / django\n",
      "justjavac / free-programming-books-zh_CN/apache / spark\n",
      "home-assistant / core/scikit-learn / scikit-learn\n",
      "huggingface / transformers/vinta / awesome-python\n",
      "ansible / ansible/odoo / odoo\n",
      "practical-tutorials / project-based-learning/pytorch / pytorch\n",
      "keras-team / keras/jakevdp / PythonDataScienceHandbook\n",
      "pandas-dev / pandas/codebasics / py\n",
      "Footer navigation\n"
     ]
    }
   ],
   "source": [
    "from selenium import webdriver\n",
    "from selenium.webdriver.chrome.service import Service\n",
    "from webdriver_manager.chrome import ChromeDriverManager\n",
    "from selenium.webdriver.common.by import By\n",
    "\n",
    "with webdriver.Chrome(service=Service(ChromeDriverManager().install())) as driver:\n",
    "    driver.get(\"https://github.com/topics/python?o=desc&s=forks\")\n",
    "    \n",
    "    # 요소가 로드될 때까지 대기 (implicitly wait)\n",
    "    driver.implicitly_wait(10)  \n",
    "    \n",
    "    # 레포지토리 제목을 담을 문자열 초기화\n",
    "    repository_titles_combined = \"\"\n",
    "    \n",
    "    # 레포지토리 제목을 포함하는 <a> 태그 찾기\n",
    "    repository_links = driver.find_elements(By.CSS_SELECTOR, 'h3 > a')\n",
    "    \n",
    "    # <a> 태그에서 텍스트 가져와서 하나의 문자열로 합치기\n",
    "    for link in repository_links:\n",
    "        repository_titles_combined += link.text + \" \"\n",
    "    \n",
    "    # 두 단어씩 합치기\n",
    "    combined_titles = []\n",
    "    for i in range(0, len(repository_titles), 2):\n",
    "        if i + 1 < len(repository_titles):\n",
    "            combined_titles.append(repository_titles[i] + \"/\" + repository_titles[i+1])\n",
    "        else:\n",
    "            combined_titles.append(repository_titles[i])\n",
    "    \n",
    "    # 결과 출력\n",
    "    for title in combined_titles:\n",
    "        print(title)"
   ]
  },
  {
   "cell_type": "code",
   "execution_count": 4,
   "metadata": {},
   "outputs": [
    {
     "name": "stdout",
     "output_type": "stream",
     "text": [
      "Collecting webdriver_manager\n",
      "  Using cached webdriver_manager-4.0.1-py2.py3-none-any.whl.metadata (12 kB)\n",
      "Requirement already satisfied: requests in c:\\users\\user\\anaconda3\\lib\\site-packages (from webdriver_manager) (2.31.0)\n",
      "Requirement already satisfied: python-dotenv in c:\\users\\user\\anaconda3\\lib\\site-packages (from webdriver_manager) (0.21.0)\n",
      "Requirement already satisfied: packaging in c:\\users\\user\\appdata\\roaming\\python\\python311\\site-packages (from webdriver_manager) (24.0)\n",
      "Requirement already satisfied: charset-normalizer<4,>=2 in c:\\users\\user\\anaconda3\\lib\\site-packages (from requests->webdriver_manager) (2.0.4)\n",
      "Requirement already satisfied: idna<4,>=2.5 in c:\\users\\user\\anaconda3\\lib\\site-packages (from requests->webdriver_manager) (3.4)\n",
      "Requirement already satisfied: urllib3<3,>=1.21.1 in c:\\users\\user\\anaconda3\\lib\\site-packages (from requests->webdriver_manager) (2.0.7)\n",
      "Requirement already satisfied: certifi>=2017.4.17 in c:\\users\\user\\anaconda3\\lib\\site-packages (from requests->webdriver_manager) (2024.2.2)\n",
      "Using cached webdriver_manager-4.0.1-py2.py3-none-any.whl (27 kB)\n",
      "Installing collected packages: webdriver_manager\n",
      "Successfully installed webdriver_manager-4.0.1\n",
      "Note: you may need to restart the kernel to use updated packages.\n"
     ]
    }
   ],
   "source": [
    "pip install webdriver_manager"
   ]
  },
  {
   "cell_type": "code",
   "execution_count": 2,
   "metadata": {},
   "outputs": [
    {
     "name": "stdout",
     "output_type": "stream",
     "text": [
      "Collecting selenium\n",
      "  Using cached selenium-4.19.0-py3-none-any.whl.metadata (6.9 kB)\n",
      "Requirement already satisfied: urllib3<3,>=1.26 in c:\\users\\user\\anaconda3\\lib\\site-packages (from urllib3[socks]<3,>=1.26->selenium) (2.0.7)\n",
      "Collecting trio~=0.17 (from selenium)\n",
      "  Using cached trio-0.25.0-py3-none-any.whl.metadata (8.7 kB)\n",
      "Collecting trio-websocket~=0.9 (from selenium)\n",
      "  Using cached trio_websocket-0.11.1-py3-none-any.whl.metadata (4.7 kB)\n",
      "Requirement already satisfied: certifi>=2021.10.8 in c:\\users\\user\\anaconda3\\lib\\site-packages (from selenium) (2024.2.2)\n",
      "Requirement already satisfied: typing_extensions>=4.9.0 in c:\\users\\user\\anaconda3\\lib\\site-packages (from selenium) (4.9.0)\n",
      "Collecting attrs>=23.2.0 (from trio~=0.17->selenium)\n",
      "  Using cached attrs-23.2.0-py3-none-any.whl.metadata (9.5 kB)\n",
      "Requirement already satisfied: sortedcontainers in c:\\users\\user\\anaconda3\\lib\\site-packages (from trio~=0.17->selenium) (2.4.0)\n",
      "Requirement already satisfied: idna in c:\\users\\user\\anaconda3\\lib\\site-packages (from trio~=0.17->selenium) (3.4)\n",
      "Collecting outcome (from trio~=0.17->selenium)\n",
      "  Using cached outcome-1.3.0.post0-py2.py3-none-any.whl.metadata (2.6 kB)\n",
      "Requirement already satisfied: sniffio>=1.3.0 in c:\\users\\user\\anaconda3\\lib\\site-packages (from trio~=0.17->selenium) (1.3.0)\n",
      "Requirement already satisfied: cffi>=1.14 in c:\\users\\user\\anaconda3\\lib\\site-packages (from trio~=0.17->selenium) (1.16.0)\n",
      "Collecting wsproto>=0.14 (from trio-websocket~=0.9->selenium)\n",
      "  Using cached wsproto-1.2.0-py3-none-any.whl.metadata (5.6 kB)\n",
      "Requirement already satisfied: pysocks!=1.5.7,<2.0,>=1.5.6 in c:\\users\\user\\anaconda3\\lib\\site-packages (from urllib3[socks]<3,>=1.26->selenium) (1.7.1)\n",
      "Requirement already satisfied: pycparser in c:\\users\\user\\anaconda3\\lib\\site-packages (from cffi>=1.14->trio~=0.17->selenium) (2.21)\n",
      "Collecting h11<1,>=0.9.0 (from wsproto>=0.14->trio-websocket~=0.9->selenium)\n",
      "  Using cached h11-0.14.0-py3-none-any.whl.metadata (8.2 kB)\n",
      "Using cached selenium-4.19.0-py3-none-any.whl (10.5 MB)\n",
      "Using cached trio-0.25.0-py3-none-any.whl (467 kB)\n",
      "Using cached trio_websocket-0.11.1-py3-none-any.whl (17 kB)\n",
      "Using cached attrs-23.2.0-py3-none-any.whl (60 kB)\n",
      "Using cached wsproto-1.2.0-py3-none-any.whl (24 kB)\n",
      "Using cached outcome-1.3.0.post0-py2.py3-none-any.whl (10 kB)\n",
      "Using cached h11-0.14.0-py3-none-any.whl (58 kB)\n",
      "Installing collected packages: h11, attrs, wsproto, outcome, trio, trio-websocket, selenium\n",
      "  Attempting uninstall: attrs\n",
      "    Found existing installation: attrs 23.1.0\n",
      "    Uninstalling attrs-23.1.0:\n",
      "      Successfully uninstalled attrs-23.1.0\n",
      "Successfully installed attrs-23.2.0 h11-0.14.0 outcome-1.3.0.post0 selenium-4.19.0 trio-0.25.0 trio-websocket-0.11.1 wsproto-1.2.0\n",
      "Note: you may need to restart the kernel to use updated packages.\n"
     ]
    },
    {
     "name": "stderr",
     "output_type": "stream",
     "text": [
      "ERROR: pip's dependency resolver does not currently take into account all the packages that are installed. This behaviour is the source of the following dependency conflicts.\n",
      "spyder 5.4.3 requires jedi<0.19.0,>=0.17.2, but you have jedi 0.19.1 which is incompatible.\n"
     ]
    }
   ],
   "source": [
    "pip install selenium"
   ]
  },
  {
   "cell_type": "code",
   "execution_count": 3,
   "metadata": {},
   "outputs": [
    {
     "ename": "ModuleNotFoundError",
     "evalue": "No module named 'webdriver_manager'",
     "output_type": "error",
     "traceback": [
      "\u001b[1;31m---------------------------------------------------------------------------\u001b[0m",
      "\u001b[1;31mModuleNotFoundError\u001b[0m                       Traceback (most recent call last)",
      "Cell \u001b[1;32mIn[3], line 3\u001b[0m\n\u001b[0;32m      1\u001b[0m \u001b[38;5;28;01mfrom\u001b[39;00m \u001b[38;5;21;01mselenium\u001b[39;00m \u001b[38;5;28;01mimport\u001b[39;00m webdriver\n\u001b[0;32m      2\u001b[0m \u001b[38;5;28;01mfrom\u001b[39;00m \u001b[38;5;21;01mselenium\u001b[39;00m\u001b[38;5;21;01m.\u001b[39;00m\u001b[38;5;21;01mwebdriver\u001b[39;00m\u001b[38;5;21;01m.\u001b[39;00m\u001b[38;5;21;01mchrome\u001b[39;00m\u001b[38;5;21;01m.\u001b[39;00m\u001b[38;5;21;01mservice\u001b[39;00m \u001b[38;5;28;01mimport\u001b[39;00m Service\n\u001b[1;32m----> 3\u001b[0m \u001b[38;5;28;01mfrom\u001b[39;00m \u001b[38;5;21;01mwebdriver_manager\u001b[39;00m\u001b[38;5;21;01m.\u001b[39;00m\u001b[38;5;21;01mchrome\u001b[39;00m \u001b[38;5;28;01mimport\u001b[39;00m ChromeDriverManager\n\u001b[0;32m      4\u001b[0m \u001b[38;5;28;01mfrom\u001b[39;00m \u001b[38;5;21;01mselenium\u001b[39;00m\u001b[38;5;21;01m.\u001b[39;00m\u001b[38;5;21;01mwebdriver\u001b[39;00m\u001b[38;5;21;01m.\u001b[39;00m\u001b[38;5;21;01mcommon\u001b[39;00m\u001b[38;5;21;01m.\u001b[39;00m\u001b[38;5;21;01mby\u001b[39;00m \u001b[38;5;28;01mimport\u001b[39;00m By\n\u001b[0;32m      5\u001b[0m \u001b[38;5;28;01mfrom\u001b[39;00m \u001b[38;5;21;01mselenium\u001b[39;00m\u001b[38;5;21;01m.\u001b[39;00m\u001b[38;5;21;01mwebdriver\u001b[39;00m\u001b[38;5;21;01m.\u001b[39;00m\u001b[38;5;21;01mcommon\u001b[39;00m\u001b[38;5;21;01m.\u001b[39;00m\u001b[38;5;21;01mactions\u001b[39;00m\u001b[38;5;21;01m.\u001b[39;00m\u001b[38;5;21;01maction_builder\u001b[39;00m \u001b[38;5;28;01mimport\u001b[39;00m ActionBuilder\n",
      "\u001b[1;31mModuleNotFoundError\u001b[0m: No module named 'webdriver_manager'"
     ]
    }
   ],
   "source": [
    "from selenium import webdriver\n",
    "from selenium.webdriver.chrome.service import Service\n",
    "from webdriver_manager.chrome import ChromeDriverManager\n",
    "from selenium.webdriver.common.by import By\n",
    "from selenium.webdriver.common.actions.action_builder import ActionBuilder\n",
    "from selenium.webdriver import Keys, ActionChains\n",
    "\n",
    "# repo_info의 값에서 사용자는 제외하고 뒤의 제목만 가져오기 위해 re라이브러리를 사용했습니다.\n",
    "def extract_name(repository):\n",
    "    match = re.match(r'.+?/([^/]+)$', repository)\n",
    "    if match:\n",
    "        return match.group(1)\n",
    "    return None\n",
    "\n",
    "'''\n",
    "language와 sort_tag를 정보에 맞게 넣어주세요 language = 개발언어, sort_tag = 'stars' or 'forks'\n",
    "language = \n",
    "sort_tag = \n",
    "'''\n",
    "\n",
    "with webdriver.Chrome(service=Service(ChromeDriverManager().install())) as driver:\n",
    "    driver.get(\"https://github.com/topics/python?o=desc&s=forks\")\n",
    "    \n",
    "    # 요소가 로드될 때까지 대기 (implicitly wait)\n",
    "    driver.implicitly_wait(10)\n",
    "    \n",
    "    repositorys = driver.find_elements(By.CLASS_NAME, \"f3 color-fg-muted text-normal lh-condensed\")\n",
    "    \n",
    "    # 레포지토리 제목을 담을 리스트\n",
    "    repo_info = []\n",
    "    \n",
    "    # 레포지토리 제목을 포함하는 태그 찾기\n",
    "    repo_list = driver.find_elements(By.TAG_NAME, 'h3')\n",
    "    \n",
    "    # 태그에서 텍스트 가져오기\n",
    "    for link in repo_list:\n",
    "        repo_info.append(link.text)\n",
    "    \n",
    "    # 각 요소에서 공백을 없앤 새로운 리스트 생성\n",
    "    repo_git_list = [item.replace(\" \", \"\") for item in repo_info]\n",
    "    \n",
    "git_data = []\n",
    "    \n",
    "for repo_list in repo_git_list:\n",
    "    # WebDriver 초기화,\n",
    "    with webdriver.Chrome(service=Service(ChromeDriverManager().install())) as driver:\n",
    "        driver.get(\"https://github.com/\" + repo_list)\n",
    "        \n",
    "        # 페이지의 HTML 소스를 가져옵니다.\n",
    "        html_source = driver.page_source\n",
    "    \n",
    "        # 로그인 상태를 나타내는 클래스명을 확인합니다.\n",
    "        if 'logged-out' in html_source:\n",
    "            # 내비게이션 바에서 \"로그인\" 버튼을 찾아 눌러봅시다.\n",
    "            button = driver.find_element(By.XPATH, \"/html/body/div[1]/div[1]/header/div/div[2]/div/div/div/a\")\n",
    "            ActionChains(driver).click(button).perform()\n",
    "        \n",
    "            # \"아이디\" input 요소에 여러분의 아이디를 입력합니다.\n",
    "            id_input = driver.find_element(By.XPATH, '//*[@id=\"login_field\"]')\n",
    "            ActionChains(driver).send_keys_to_element(id_input, \"jkh990101@gmail.com\").perform()\n",
    "        \n",
    "            # \"패스워드\" input 요소에 여러분의 비밀번호를 입력합니다.\n",
    "            pw_input = driver.find_element(By.XPATH, '//*[@id=\"password\"]')\n",
    "            ActionChains(driver).send_keys_to_element(pw_input, \"rlghd990101\").perform()\n",
    "        \n",
    "            # \"로그인\" 버튼을 눌러서 로그인을 완료합니다.\n",
    "            login_button = driver.find_element(By.XPATH, '//*[@id=\"login\"]/div[4]/form/div/input[13]')\n",
    "            ActionChains(driver).click(login_button).perform()\n",
    "        \n",
    "        driver.implicitly_wait(10)\n",
    "        \n",
    "        # 요소 찾기\n",
    "        repo_watch = driver.find_element(By.ID, 'repo-notifications-counter')\n",
    "        repo_fork = driver.find_element(By.ID, 'repo-network-counter')\n",
    "        repo_stars = driver.find_element(By.ID, 'repo-stars-counter-star')\n",
    "        repo_commit = driver.find_element(By.XPATH, 'Text-sc-17v1xeu-0 UrHoN')\n",
    "            \n",
    "        # 요소를 찾기 위해 find_elements를 사용하여 리스트 형태로 반환합니다.\n",
    "        recent_t = driver.find_elements(By.TAG_NAME, 'relative-time')\n",
    "        repo_recent = recent_t[0].get_attribute('title')\n",
    "            \n",
    "            \n",
    "        # 요소의 title 속성값 가져와 git_data에 저장\n",
    "        git_elem = {\n",
    "            \"name\" : extract_name(repo_git_list),\n",
    "            \"fork\" : repo_fork.get_attribute('title'),\n",
    "            \"stars\" : repo_stars.get_attribute('title'),\n",
    "            \"recent_time\" : repo_recent,\n",
    "            \"number_of_commit\" : repo_commit.get_attribute('title'),\n",
    "        }\n",
    "        git_data.append(git_elem)\n"
   ]
  },
  {
   "cell_type": "code",
   "execution_count": 96,
   "metadata": {},
   "outputs": [],
   "source": [
    "from selenium import webdriver\n",
    "from selenium.webdriver.chrome.service import Service\n",
    "from webdriver_manager.chrome import ChromeDriverManager\n",
    "from selenium.webdriver.common.by import By\n",
    "\n",
    "with webdriver.Chrome(service=Service(ChromeDriverManager().install())) as driver:\n",
    "    driver.get(\"https://github.com/topics/python?o=desc&s=forks\")\n",
    "    \n",
    "    # 요소가 로드될 때까지 대기 (implicitly wait)\n",
    "    driver.implicitly_wait(10)\n",
    "    \n",
    "    "
   ]
  },
  {
   "cell_type": "code",
   "execution_count": 95,
   "metadata": {},
   "outputs": [
    {
     "ename": "KeyError",
     "evalue": "'title'",
     "output_type": "error",
     "traceback": [
      "\u001b[1;31m---------------------------------------------------------------------------\u001b[0m",
      "\u001b[1;31mKeyError\u001b[0m                                  Traceback (most recent call last)",
      "Cell \u001b[1;32mIn[95], line 33\u001b[0m\n\u001b[0;32m     31\u001b[0m repo_recent \u001b[38;5;241m=\u001b[39m repo_soup\u001b[38;5;241m.\u001b[39mfind(\u001b[38;5;124m\"\u001b[39m\u001b[38;5;124mrelative-time\u001b[39m\u001b[38;5;124m\"\u001b[39m)\n\u001b[0;32m     32\u001b[0m \u001b[38;5;28;01mif\u001b[39;00m repo_recent:\n\u001b[1;32m---> 33\u001b[0m     repo_recent \u001b[38;5;241m=\u001b[39m \u001b[43mrepo_recent\u001b[49m\u001b[43m[\u001b[49m\u001b[38;5;124;43m\"\u001b[39;49m\u001b[38;5;124;43mtitle\u001b[39;49m\u001b[38;5;124;43m\"\u001b[39;49m\u001b[43m]\u001b[49m\n\u001b[0;32m     34\u001b[0m \u001b[38;5;28;01melse\u001b[39;00m:\n\u001b[0;32m     35\u001b[0m     repo_recent \u001b[38;5;241m=\u001b[39m \u001b[38;5;28;01mNone\u001b[39;00m\n",
      "File \u001b[1;32m~\\AppData\\Roaming\\Python\\Python312\\site-packages\\bs4\\element.py:1573\u001b[0m, in \u001b[0;36mTag.__getitem__\u001b[1;34m(self, key)\u001b[0m\n\u001b[0;32m   1570\u001b[0m \u001b[38;5;28;01mdef\u001b[39;00m \u001b[38;5;21m__getitem__\u001b[39m(\u001b[38;5;28mself\u001b[39m, key):\n\u001b[0;32m   1571\u001b[0m \u001b[38;5;250m    \u001b[39m\u001b[38;5;124;03m\"\"\"tag[key] returns the value of the 'key' attribute for the Tag,\u001b[39;00m\n\u001b[0;32m   1572\u001b[0m \u001b[38;5;124;03m    and throws an exception if it's not there.\"\"\"\u001b[39;00m\n\u001b[1;32m-> 1573\u001b[0m     \u001b[38;5;28;01mreturn\u001b[39;00m \u001b[38;5;28;43mself\u001b[39;49m\u001b[38;5;241;43m.\u001b[39;49m\u001b[43mattrs\u001b[49m\u001b[43m[\u001b[49m\u001b[43mkey\u001b[49m\u001b[43m]\u001b[49m\n",
      "\u001b[1;31mKeyError\u001b[0m: 'title'"
     ]
    }
   ],
   "source": [
    "import requests\n",
    "from bs4 import BeautifulSoup\n",
    "import re\n",
    "\n",
    "def extract_name(repository):\n",
    "    match = re.match(r'.+?/([^/]+)$', repository)\n",
    "    if match:\n",
    "        return match.group(1)\n",
    "    return None\n",
    "\n",
    "url = \"https://github.com/topics/python?o=desc&s=forks\"\n",
    "response = requests.get(url)\n",
    "soup = BeautifulSoup(response.text, \"html.parser\")\n",
    "\n",
    "repositorys = soup.find_all(\"h3\", class_=(\"f3 color-fg-muted text-normal lh-condensed\"))\n",
    "repo_info = []\n",
    "for repository in repositorys:\n",
    "    repo_info.append(repository.text.replace('\\n', '').replace(' ', ''))\n",
    "\n",
    "git_data = []\n",
    "\n",
    "for repo_list in repo_info:\n",
    "    repo_url = \"https://github.com/\" + repo_list\n",
    "    repo_response = requests.get(repo_url)\n",
    "    repo_soup = BeautifulSoup(repo_response.text, \"html.parser\")\n",
    "    \n",
    "    repo_fork = repo_soup.find(\"span\", id=\"repo-network-counter\")\n",
    "    repo_stars = repo_soup.find(\"span\", id=\"repo-stars-counter-star\")\n",
    "    \n",
    "    # 요소가 존재하는지 확인 후에 'title' 속성을 가져옴\n",
    "    repo_recent = repo_soup.find(\"relative-time\")\n",
    "    if repo_recent:\n",
    "        repo_recent = repo_recent[\"title\"]\n",
    "    else:\n",
    "        repo_recent = None\n",
    "    \n",
    "    repo_commit = repo_soup.find(\"span\", class_=\"Text-sc-17v1xeu-0 UrHoN\")\n",
    "    if repo_commit:\n",
    "        repo_commit = repo_commit[\"title\"]\n",
    "    else:\n",
    "        repo_commit = None\n",
    "    \n",
    "    git_elem = {\n",
    "        \"name\": extract_name(repo_list),\n",
    "        \"fork\": repo_fork.get(\"title\"),\n",
    "        \"stars\": repo_stars.get(\"title\"),\n",
    "        \"recent_time\": repo_recent,\n",
    "        \"number_of_commit\": repo_commit,\n",
    "    }\n",
    "    git_data.append(git_elem)\n",
    "\n",
    "print(git_data)"
   ]
  },
  {
   "cell_type": "code",
   "execution_count": 49,
   "metadata": {},
   "outputs": [
    {
     "name": "stdout",
     "output_type": "stream",
     "text": [
      "로그인 되어 있습니다.\n"
     ]
    }
   ],
   "source": [
    "from selenium import webdriver\n",
    "from selenium.webdriver.chrome.service import Service\n",
    "from webdriver_manager.chrome import ChromeDriverManager\n",
    "from selenium.webdriver.common.by import By\n",
    "import time\n",
    "\n",
    "# WebDriver 초기화\n",
    "with webdriver.Chrome(service=Service(ChromeDriverManager().install())) as driver:\n",
    "    # 웹 페이지로 이동\n",
    "    driver.get(\"https://github.com/tensorflow/tensorflow\")\n",
    "    \n",
    "    # 요소가 로드될 때까지 대기 (implicitly wait)\n",
    "    driver.implicitly_wait(10)  \n",
    "    \n",
    "    # 페이지의 HTML 소스를 가져옵니다.\n",
    "    html_source = driver.page_source\n",
    "    \n",
    "    # 로그인 상태를 나타내는 클래스명을 확인합니다.\n",
    "    if 'logged-out' in html_source:\n",
    "        print(\"로그인 되어 있지 않습니다.\")\n",
    "    else:\n",
    "        print(\"로그인 되어 있습니다.\")"
   ]
  },
  {
   "cell_type": "code",
   "execution_count": 43,
   "metadata": {},
   "outputs": [
    {
     "data": {
      "text/plain": [
       "[<selenium.webdriver.remote.webelement.WebElement (session=\"48cef66d8e88d7be6060e78bb9997b7c\", element=\"f.0E756019241A8EF50AAFF0671B81AC89.d.EC9725A353B6CBED34871E336F4308C2.e.73\")>]"
      ]
     },
     "execution_count": 43,
     "metadata": {},
     "output_type": "execute_result"
    }
   ],
   "source": [
    "login_status"
   ]
  },
  {
   "cell_type": "code",
   "execution_count": null,
   "metadata": {},
   "outputs": [],
   "source": [
    "logged-in env-production page-responsive session-authentication\n",
    "logged-in env-production page-responsive intent-mouse\n",
    "logged-out env-production page-responsive"
   ]
  },
  {
   "cell_type": "code",
   "execution_count": 38,
   "metadata": {},
   "outputs": [
    {
     "name": "stdout",
     "output_type": "stream",
     "text": [
      "검색된 요소가 없습니다.\n"
     ]
    }
   ],
   "source": [
    "from selenium import webdriver\n",
    "from selenium.webdriver.chrome.service import Service\n",
    "from webdriver_manager.chrome import ChromeDriverManager\n",
    "from selenium.webdriver.common.by import By\n",
    "\n",
    "# WebDriver 초기화\n",
    "with webdriver.Chrome(service=Service(ChromeDriverManager().install())) as driver:\n",
    "    # 웹 페이지로 이동\n",
    "    driver.get(\"https://github.com/tensorflow/tensorflow\")\n",
    "    \n",
    "    # 요소가 로드될 때까지 대기 (implicitly wait)\n",
    "    driver.implicitly_wait(5)  \n",
    "    \n",
    "    # class와 data-view-component 속성을 만족하는 img 태그 검색\n",
    "    elements = driver.find_elements(By.XPATH, '//img[@class=\"avatar circle\" and @alt=\"\"]')\n",
    "    \n",
    "    # 검색된 요소의 개수 확인\n",
    "    if elements:\n",
    "        print(f\"{len(elements)} 개의 요소가 검색되었습니다.\")\n",
    "        for element in elements:\n",
    "            print(\"요소:\", element)\n",
    "    else:\n",
    "        print(\"검색된 요소가 없습니다.\")"
   ]
  },
  {
   "cell_type": "code",
   "execution_count": 21,
   "metadata": {},
   "outputs": [
    {
     "name": "stdout",
     "output_type": "stream",
     "text": [
      "73,856\n",
      "182,254\n"
     ]
    }
   ],
   "source": [
    "from selenium import webdriver\n",
    "from selenium.webdriver.chrome.service import Service\n",
    "from webdriver_manager.chrome import ChromeDriverManager\n",
    "from selenium.webdriver.common.by import By\n",
    "\n",
    "\n",
    "with webdriver.Chrome(service=Service(ChromeDriverManager().install())) as driver:\n",
    "    driver.get(\"https://github.com/tensorflow/tensorflow\")\n",
    "    driver.implicitly_wait(5)\n",
    "\n",
    "    fork_repo = driver.find_element(By.ID, 'repo-network-counter')\n",
    "    star_repo = driver.find_element(By.ID, 'repo-stars-counter-star')\n",
    "\n",
    "    print(fork_repo.get_attribute('title'))\n",
    "    print(star_repo.get_attribute('title'))"
   ]
  },
  {
   "cell_type": "code",
   "execution_count": 14,
   "metadata": {},
   "outputs": [
    {
     "name": "stdout",
     "output_type": "stream",
     "text": [
      "title 값: 73,856\n"
     ]
    }
   ],
   "source": [
    "from selenium import webdriver\n",
    "from selenium.webdriver.chrome.service import Service\n",
    "from webdriver_manager.chrome import ChromeDriverManager\n",
    "from selenium.webdriver.common.by import By\n",
    "\n",
    "# WebDriver 초기화\n",
    "with webdriver.Chrome(service=Service(ChromeDriverManager().install())) as driver:\n",
    "    # 웹 페이지로 이동\n",
    "    driver.get(\"https://github.com/tensorflow/tensorflow\")\n",
    "    \n",
    "    # 요소가 로드될 때까지 대기 (implicitly wait)\n",
    "    driver.implicitly_wait(5)\n",
    "    \n",
    "    # 요소 찾기\n",
    "    selex = driver.find_element(By.ID, 'repo-network-counter')\n",
    "    \n",
    "    # 요소의 title 속성값 가져오기\n",
    "    title_value = selex.get_attribute('title')\n",
    "    \n",
    "    # 출력\n",
    "    print(\"title 값:\", title_value)"
   ]
  },
  {
   "cell_type": "code",
   "execution_count": 20,
   "metadata": {},
   "outputs": [
    {
     "ename": "AttributeError",
     "evalue": "'str' object has no attribute 'capabilities'",
     "output_type": "error",
     "traceback": [
      "\u001b[1;31m---------------------------------------------------------------------------\u001b[0m",
      "\u001b[1;31mAttributeError\u001b[0m                            Traceback (most recent call last)",
      "File \u001b[1;32m~\\AppData\\Roaming\\Python\\Python312\\site-packages\\selenium\\webdriver\\common\\driver_finder.py:38\u001b[0m, in \u001b[0;36mDriverFinder.get_path\u001b[1;34m(service, options)\u001b[0m\n\u001b[0;32m     37\u001b[0m \u001b[38;5;28;01mtry\u001b[39;00m:\n\u001b[1;32m---> 38\u001b[0m     path \u001b[38;5;241m=\u001b[39m \u001b[43mSeleniumManager\u001b[49m\u001b[43m(\u001b[49m\u001b[43m)\u001b[49m\u001b[38;5;241;43m.\u001b[39;49m\u001b[43mdriver_location\u001b[49m\u001b[43m(\u001b[49m\u001b[43moptions\u001b[49m\u001b[43m)\u001b[49m \u001b[38;5;28;01mif\u001b[39;00m path \u001b[38;5;129;01mis\u001b[39;00m \u001b[38;5;28;01mNone\u001b[39;00m \u001b[38;5;28;01melse\u001b[39;00m path\n\u001b[0;32m     39\u001b[0m \u001b[38;5;28;01mexcept\u001b[39;00m \u001b[38;5;167;01mException\u001b[39;00m \u001b[38;5;28;01mas\u001b[39;00m err:\n",
      "File \u001b[1;32m~\\AppData\\Roaming\\Python\\Python312\\site-packages\\selenium\\webdriver\\common\\selenium_manager.py:87\u001b[0m, in \u001b[0;36mSeleniumManager.driver_location\u001b[1;34m(self, options)\u001b[0m\n\u001b[0;32m     80\u001b[0m \u001b[38;5;250m\u001b[39m\u001b[38;5;124;03m\"\"\"Determines the path of the correct driver.\u001b[39;00m\n\u001b[0;32m     81\u001b[0m \n\u001b[0;32m     82\u001b[0m \u001b[38;5;124;03m:Args:\u001b[39;00m\n\u001b[0;32m     83\u001b[0m \u001b[38;5;124;03m - browser: which browser to get the driver path for.\u001b[39;00m\n\u001b[0;32m     84\u001b[0m \u001b[38;5;124;03m:Returns: The driver path to use\u001b[39;00m\n\u001b[0;32m     85\u001b[0m \u001b[38;5;124;03m\"\"\"\u001b[39;00m\n\u001b[1;32m---> 87\u001b[0m browser \u001b[38;5;241m=\u001b[39m \u001b[43moptions\u001b[49m\u001b[38;5;241;43m.\u001b[39;49m\u001b[43mcapabilities\u001b[49m[\u001b[38;5;124m\"\u001b[39m\u001b[38;5;124mbrowserName\u001b[39m\u001b[38;5;124m\"\u001b[39m]\n\u001b[0;32m     89\u001b[0m args \u001b[38;5;241m=\u001b[39m [\u001b[38;5;28mstr\u001b[39m(\u001b[38;5;28mself\u001b[39m\u001b[38;5;241m.\u001b[39mget_binary()), \u001b[38;5;124m\"\u001b[39m\u001b[38;5;124m--browser\u001b[39m\u001b[38;5;124m\"\u001b[39m, browser]\n",
      "\u001b[1;31mAttributeError\u001b[0m: 'str' object has no attribute 'capabilities'",
      "\nDuring handling of the above exception, another exception occurred:\n",
      "\u001b[1;31mAttributeError\u001b[0m                            Traceback (most recent call last)",
      "Cell \u001b[1;32mIn[20], line 7\u001b[0m\n\u001b[0;32m      4\u001b[0m \u001b[38;5;28;01mfrom\u001b[39;00m \u001b[38;5;21;01mselenium\u001b[39;00m\u001b[38;5;21;01m.\u001b[39;00m\u001b[38;5;21;01mwebdriver\u001b[39;00m\u001b[38;5;21;01m.\u001b[39;00m\u001b[38;5;21;01msupport\u001b[39;00m\u001b[38;5;21;01m.\u001b[39;00m\u001b[38;5;21;01mui\u001b[39;00m \u001b[38;5;28;01mimport\u001b[39;00m WebDriverWait\n\u001b[0;32m      5\u001b[0m \u001b[38;5;28;01mfrom\u001b[39;00m \u001b[38;5;21;01mselenium\u001b[39;00m\u001b[38;5;21;01m.\u001b[39;00m\u001b[38;5;21;01mwebdriver\u001b[39;00m\u001b[38;5;21;01m.\u001b[39;00m\u001b[38;5;21;01msupport\u001b[39;00m \u001b[38;5;28;01mimport\u001b[39;00m expected_conditions \u001b[38;5;28;01mas\u001b[39;00m EC\n\u001b[1;32m----> 7\u001b[0m driver \u001b[38;5;241m=\u001b[39m \u001b[43mwebdriver\u001b[49m\u001b[38;5;241;43m.\u001b[39;49m\u001b[43mChrome\u001b[49m\u001b[43m(\u001b[49m\u001b[38;5;124;43m'\u001b[39;49m\u001b[38;5;124;43mpath/to/chromedriver\u001b[39;49m\u001b[38;5;124;43m'\u001b[39;49m\u001b[43m)\u001b[49m\n\u001b[0;32m      9\u001b[0m \u001b[38;5;66;03m# Google 검색 페이지 접속\u001b[39;00m\n\u001b[0;32m     10\u001b[0m driver\u001b[38;5;241m.\u001b[39mget(\u001b[38;5;124m'\u001b[39m\u001b[38;5;124mhttps://www.google.com\u001b[39m\u001b[38;5;124m'\u001b[39m)\n",
      "File \u001b[1;32m~\\AppData\\Roaming\\Python\\Python312\\site-packages\\selenium\\webdriver\\chrome\\webdriver.py:45\u001b[0m, in \u001b[0;36mWebDriver.__init__\u001b[1;34m(self, options, service, keep_alive)\u001b[0m\n\u001b[0;32m     42\u001b[0m service \u001b[38;5;241m=\u001b[39m service \u001b[38;5;28;01mif\u001b[39;00m service \u001b[38;5;28;01melse\u001b[39;00m Service()\n\u001b[0;32m     43\u001b[0m options \u001b[38;5;241m=\u001b[39m options \u001b[38;5;28;01mif\u001b[39;00m options \u001b[38;5;28;01melse\u001b[39;00m Options()\n\u001b[1;32m---> 45\u001b[0m \u001b[38;5;28;43msuper\u001b[39;49m\u001b[43m(\u001b[49m\u001b[43m)\u001b[49m\u001b[38;5;241;43m.\u001b[39;49m\u001b[38;5;21;43m__init__\u001b[39;49m\u001b[43m(\u001b[49m\n\u001b[0;32m     46\u001b[0m \u001b[43m    \u001b[49m\u001b[43mbrowser_name\u001b[49m\u001b[38;5;241;43m=\u001b[39;49m\u001b[43mDesiredCapabilities\u001b[49m\u001b[38;5;241;43m.\u001b[39;49m\u001b[43mCHROME\u001b[49m\u001b[43m[\u001b[49m\u001b[38;5;124;43m\"\u001b[39;49m\u001b[38;5;124;43mbrowserName\u001b[39;49m\u001b[38;5;124;43m\"\u001b[39;49m\u001b[43m]\u001b[49m\u001b[43m,\u001b[49m\n\u001b[0;32m     47\u001b[0m \u001b[43m    \u001b[49m\u001b[43mvendor_prefix\u001b[49m\u001b[38;5;241;43m=\u001b[39;49m\u001b[38;5;124;43m\"\u001b[39;49m\u001b[38;5;124;43mgoog\u001b[39;49m\u001b[38;5;124;43m\"\u001b[39;49m\u001b[43m,\u001b[49m\n\u001b[0;32m     48\u001b[0m \u001b[43m    \u001b[49m\u001b[43moptions\u001b[49m\u001b[38;5;241;43m=\u001b[39;49m\u001b[43moptions\u001b[49m\u001b[43m,\u001b[49m\n\u001b[0;32m     49\u001b[0m \u001b[43m    \u001b[49m\u001b[43mservice\u001b[49m\u001b[38;5;241;43m=\u001b[39;49m\u001b[43mservice\u001b[49m\u001b[43m,\u001b[49m\n\u001b[0;32m     50\u001b[0m \u001b[43m    \u001b[49m\u001b[43mkeep_alive\u001b[49m\u001b[38;5;241;43m=\u001b[39;49m\u001b[43mkeep_alive\u001b[49m\u001b[43m,\u001b[49m\n\u001b[0;32m     51\u001b[0m \u001b[43m\u001b[49m\u001b[43m)\u001b[49m\n",
      "File \u001b[1;32m~\\AppData\\Roaming\\Python\\Python312\\site-packages\\selenium\\webdriver\\chromium\\webdriver.py:49\u001b[0m, in \u001b[0;36mChromiumDriver.__init__\u001b[1;34m(self, browser_name, vendor_prefix, options, service, keep_alive)\u001b[0m\n\u001b[0;32m     37\u001b[0m \u001b[38;5;250m\u001b[39m\u001b[38;5;124;03m\"\"\"Creates a new WebDriver instance of the ChromiumDriver. Starts the\u001b[39;00m\n\u001b[0;32m     38\u001b[0m \u001b[38;5;124;03mservice and then creates new WebDriver instance of ChromiumDriver.\u001b[39;00m\n\u001b[0;32m     39\u001b[0m \n\u001b[1;32m   (...)\u001b[0m\n\u001b[0;32m     45\u001b[0m \u001b[38;5;124;03m - keep_alive - Whether to configure ChromiumRemoteConnection to use HTTP keep-alive.\u001b[39;00m\n\u001b[0;32m     46\u001b[0m \u001b[38;5;124;03m\"\"\"\u001b[39;00m\n\u001b[0;32m     47\u001b[0m \u001b[38;5;28mself\u001b[39m\u001b[38;5;241m.\u001b[39mservice \u001b[38;5;241m=\u001b[39m service\n\u001b[1;32m---> 49\u001b[0m \u001b[38;5;28mself\u001b[39m\u001b[38;5;241m.\u001b[39mservice\u001b[38;5;241m.\u001b[39mpath \u001b[38;5;241m=\u001b[39m \u001b[43mDriverFinder\u001b[49m\u001b[38;5;241;43m.\u001b[39;49m\u001b[43mget_path\u001b[49m\u001b[43m(\u001b[49m\u001b[38;5;28;43mself\u001b[39;49m\u001b[38;5;241;43m.\u001b[39;49m\u001b[43mservice\u001b[49m\u001b[43m,\u001b[49m\u001b[43m \u001b[49m\u001b[43moptions\u001b[49m\u001b[43m)\u001b[49m\n\u001b[0;32m     50\u001b[0m \u001b[38;5;28mself\u001b[39m\u001b[38;5;241m.\u001b[39mservice\u001b[38;5;241m.\u001b[39mstart()\n\u001b[0;32m     52\u001b[0m executor \u001b[38;5;241m=\u001b[39m ChromiumRemoteConnection(\n\u001b[0;32m     53\u001b[0m     remote_server_addr\u001b[38;5;241m=\u001b[39m\u001b[38;5;28mself\u001b[39m\u001b[38;5;241m.\u001b[39mservice\u001b[38;5;241m.\u001b[39mservice_url,\n\u001b[0;32m     54\u001b[0m     browser_name\u001b[38;5;241m=\u001b[39mbrowser_name,\n\u001b[1;32m   (...)\u001b[0m\n\u001b[0;32m     57\u001b[0m     ignore_proxy\u001b[38;5;241m=\u001b[39moptions\u001b[38;5;241m.\u001b[39m_ignore_local_proxy,\n\u001b[0;32m     58\u001b[0m )\n",
      "File \u001b[1;32m~\\AppData\\Roaming\\Python\\Python312\\site-packages\\selenium\\webdriver\\common\\driver_finder.py:40\u001b[0m, in \u001b[0;36mDriverFinder.get_path\u001b[1;34m(service, options)\u001b[0m\n\u001b[0;32m     38\u001b[0m     path \u001b[38;5;241m=\u001b[39m SeleniumManager()\u001b[38;5;241m.\u001b[39mdriver_location(options) \u001b[38;5;28;01mif\u001b[39;00m path \u001b[38;5;129;01mis\u001b[39;00m \u001b[38;5;28;01mNone\u001b[39;00m \u001b[38;5;28;01melse\u001b[39;00m path\n\u001b[0;32m     39\u001b[0m \u001b[38;5;28;01mexcept\u001b[39;00m \u001b[38;5;167;01mException\u001b[39;00m \u001b[38;5;28;01mas\u001b[39;00m err:\n\u001b[1;32m---> 40\u001b[0m     msg \u001b[38;5;241m=\u001b[39m \u001b[38;5;124mf\u001b[39m\u001b[38;5;124m\"\u001b[39m\u001b[38;5;124mUnable to obtain driver for \u001b[39m\u001b[38;5;132;01m{\u001b[39;00m\u001b[43moptions\u001b[49m\u001b[38;5;241;43m.\u001b[39;49m\u001b[43mcapabilities\u001b[49m[\u001b[38;5;124m'\u001b[39m\u001b[38;5;124mbrowserName\u001b[39m\u001b[38;5;124m'\u001b[39m]\u001b[38;5;132;01m}\u001b[39;00m\u001b[38;5;124m using Selenium Manager.\u001b[39m\u001b[38;5;124m\"\u001b[39m\n\u001b[0;32m     41\u001b[0m     \u001b[38;5;28;01mraise\u001b[39;00m NoSuchDriverException(msg) \u001b[38;5;28;01mfrom\u001b[39;00m \u001b[38;5;21;01merr\u001b[39;00m\n\u001b[0;32m     43\u001b[0m \u001b[38;5;28;01mif\u001b[39;00m path \u001b[38;5;129;01mis\u001b[39;00m \u001b[38;5;28;01mNone\u001b[39;00m \u001b[38;5;129;01mor\u001b[39;00m \u001b[38;5;129;01mnot\u001b[39;00m Path(path)\u001b[38;5;241m.\u001b[39mis_file():\n",
      "\u001b[1;31mAttributeError\u001b[0m: 'str' object has no attribute 'capabilities'"
     ]
    }
   ],
   "source": [
    "from httpcore import TimeoutException\n",
    "from selenium import webdriver\n",
    "from selenium.webdriver.common.by import By\n",
    "from selenium.webdriver.support.ui import WebDriverWait\n",
    "from selenium.webdriver.support import expected_conditions as EC\n",
    "\n",
    "driver = webdriver.Chrome('path/to/chromedriver')\n",
    "\n",
    "# Google 검색 페이지 접속\n",
    "driver.get('https://www.google.com')\n",
    "\n",
    "# 타임아웃 시간 조정\n",
    "try:\n",
    "\telement = WebDriverWait(driver, 20).until(\n",
    "\t    EC.presence_of_element_located((By.CSS_SELECTOR, '.nonexistent-element'))\n",
    "\t)\n",
    "\tprint(element.text)\n",
    "except TimeoutException as e:\n",
    "\tprint(\"요소를 찾을 수 없거나 로딩에 시간이 너무 오래 걸립니다.\")\n",
    "finally:\n",
    "\t# 브라우저 종료\n",
    "\tdriver.quit()"
   ]
  }
 ],
 "metadata": {
  "kernelspec": {
   "display_name": "Python 3 (ipykernel)",
   "language": "python",
   "name": "python3"
  },
  "language_info": {
   "codemirror_mode": {
    "name": "ipython",
    "version": 3
   },
   "file_extension": ".py",
   "mimetype": "text/x-python",
   "name": "python",
   "nbconvert_exporter": "python",
   "pygments_lexer": "ipython3",
   "version": "3.11.7"
  }
 },
 "nbformat": 4,
 "nbformat_minor": 4
}
